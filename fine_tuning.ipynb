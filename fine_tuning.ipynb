{
  "nbformat": 4,
  "nbformat_minor": 0,
  "metadata": {
    "colab": {
      "provenance": [],
      "machine_shape": "hm",
      "gpuType": "V100"
    },
    "kernelspec": {
      "name": "python3",
      "display_name": "Python 3"
    },
    "language_info": {
      "name": "python"
    },
    "accelerator": "GPU"
  },
  "cells": [
    {
      "cell_type": "markdown",
      "source": [
        "# **MA-CSSL Hate Speech Detection in Turkish using BERT - EPISODE 1 - Part 2: Fine Tuning a BERT Model for Turkish Hate Speech Detection**"
      ],
      "metadata": {
        "id": "y7elGRhMmXjI"
      }
    },
    {
      "cell_type": "markdown",
      "source": [
        "# Importing the Libraries"
      ],
      "metadata": {
        "id": "dhwbjejzmh0S"
      }
    },
    {
      "cell_type": "markdown",
      "source": [
        "You can install all the libraries that aren't currently on the notebook with the \"!pip install [library-name]\" command."
      ],
      "metadata": {
        "id": "hOBCS4yIpJL-"
      }
    },
    {
      "cell_type": "code",
      "source": [
        "#!pip install urlextract"
      ],
      "metadata": {
        "id": "75bfMyYJugUb"
      },
      "execution_count": null,
      "outputs": []
    },
    {
      "cell_type": "code",
      "source": [
        "import json\n",
        "import random\n",
        "import numpy as np\n",
        "import pandas as pd\n",
        "import matplotlib.pyplot as plt\n",
        "\n",
        "import torch\n",
        "\n",
        "from collections import Counter\n",
        "from sklearn.utils import resample\n",
        "from transformers import BertConfig\n",
        "from transformers import AutoModelForSequenceClassification, AutoTokenizer, ConvBertConfig\n",
        "from torch.utils.data import DataLoader, Dataset\n",
        "\n",
        "\n",
        "from sklearn.metrics import precision_recall_fscore_support, matthews_corrcoef\n",
        "from transformers import get_linear_schedule_with_warmup\n",
        "import random\n",
        "from sklearn.utils.class_weight import compute_class_weight"
      ],
      "metadata": {
        "id": "zxplUYQ0V68U"
      },
      "execution_count": 56,
      "outputs": []
    },
    {
      "cell_type": "markdown",
      "source": [
        "# Reading the Training Data"
      ],
      "metadata": {
        "id": "-dXsZ9KQruMr"
      }
    },
    {
      "cell_type": "markdown",
      "source": [
        "Sabancı University HSD2-Lang Hate Speech Detection Competition Training Data https://drive.google.com/drive/folders/1K_B3_JN5jaVTSpntgzyUI48aFLiCp3fa?usp=drive_link"
      ],
      "metadata": {
        "id": "_gWH4DbzsDYe"
      }
    },
    {
      "cell_type": "code",
      "source": [
        "israel = pd.read_csv(\"/content/drive/MyDrive/hate-speech-sabancı/isr_pal_train.csv\")\n",
        "refugee = pd.read_csv(\"/content/drive/MyDrive/hate-speech-sabancı/refugee_train.csv\")\n",
        "greek = pd.read_csv(\"/content/drive/MyDrive/hate-speech-sabancı/tr_gr_train.csv\")"
      ],
      "metadata": {
        "id": "rNTfES8Urtwh"
      },
      "execution_count": 57,
      "outputs": []
    },
    {
      "cell_type": "markdown",
      "source": [
        "## Concatenating"
      ],
      "metadata": {
        "id": "C9xhaANhuL5u"
      }
    },
    {
      "cell_type": "code",
      "source": [
        "df = pd.concat([israel,refugee,greek], axis=0)"
      ],
      "metadata": {
        "id": "MVylt0DyrrQQ"
      },
      "execution_count": 58,
      "outputs": []
    },
    {
      "cell_type": "code",
      "source": [
        "df.reset_index(inplace=True)"
      ],
      "metadata": {
        "id": "BAuyZxz9uu5T"
      },
      "execution_count": 59,
      "outputs": []
    },
    {
      "cell_type": "markdown",
      "source": [
        "## Label Counts"
      ],
      "metadata": {
        "id": "Gee_fyw1uIcC"
      }
    },
    {
      "cell_type": "code",
      "source": [
        "df.shape"
      ],
      "metadata": {
        "colab": {
          "base_uri": "https://localhost:8080/"
        },
        "id": "3x_lUxBJ0JjR",
        "outputId": "6f8d2bf3-2b9f-41a1-b27a-7a6882cafe7e"
      },
      "execution_count": 84,
      "outputs": [
        {
          "output_type": "execute_result",
          "data": {
            "text/plain": [
              "(8807, 4)"
            ]
          },
          "metadata": {},
          "execution_count": 84
        }
      ]
    },
    {
      "cell_type": "code",
      "source": [
        "df[\"label\"].value_counts()"
      ],
      "metadata": {
        "colab": {
          "base_uri": "https://localhost:8080/"
        },
        "id": "gtmG47L6rrNx",
        "outputId": "0a722e82-c8b1-4f48-ca74-5bc2e8a12ed8"
      },
      "execution_count": 60,
      "outputs": [
        {
          "output_type": "execute_result",
          "data": {
            "text/plain": [
              "0    6392\n",
              "1    2748\n",
              "Name: label, dtype: int64"
            ]
          },
          "metadata": {},
          "execution_count": 60
        }
      ]
    },
    {
      "cell_type": "markdown",
      "source": [
        "# Using TweetBERT's preprocessor\n",
        "https://github.com/ViralLab/TurkishBERTweet"
      ],
      "metadata": {
        "id": "HVB2288SthvA"
      }
    },
    {
      "cell_type": "code",
      "source": [
        "%cd /content/drive/MyDrive/TurkishBERTweet/TurkishBERTweet"
      ],
      "metadata": {
        "colab": {
          "base_uri": "https://localhost:8080/"
        },
        "id": "LErvLS7zrrHp",
        "outputId": "c87a6809-2adc-4ec6-91f6-0b0035bc7328"
      },
      "execution_count": 61,
      "outputs": [
        {
          "output_type": "stream",
          "name": "stdout",
          "text": [
            "/content/drive/MyDrive/TurkishBERTweet/TurkishBERTweet\n"
          ]
        }
      ]
    },
    {
      "cell_type": "markdown",
      "source": [
        "## Before Preprocessing"
      ],
      "metadata": {
        "id": "ttFrTCTRuZWr"
      }
    },
    {
      "cell_type": "code",
      "source": [
        "df[\"text\"]"
      ],
      "metadata": {
        "colab": {
          "base_uri": "https://localhost:8080/"
        },
        "id": "zkQSVZ3VrrEx",
        "outputId": "2ffc202e-ede2-443f-a17c-b21e902e83d8"
      },
      "execution_count": 62,
      "outputs": [
        {
          "output_type": "execute_result",
          "data": {
            "text/plain": [
              "0                #Yıkılasınisrail https://t.co/Q002Qk4vWn\n",
              "1       @1dirilis_genci @Svgl79865097 #AlAqsaUnderAtta...\n",
              "2       Şehadetin mübarek olsun cennet kuşu🕊\\n@yahyazn...\n",
              "3       @AshrafS89866013 #Qəzzahücumaltındadır\\n#Gazze...\n",
              "4       Bugün ribat noktası, okçular tepesi Mescid-i A...\n",
              "                              ...                        \n",
              "9135    Şunu iyi bil Yunanistan!\\n\\nFıtrat değişir san...\n",
              "9136    @username @username @username @username @usern...\n",
              "9137    @username Türkiye Nato'dan çıkarsa bölgede bur...\n",
              "9138    @username Bir gece ansızın gelebiliriz, hemde ...\n",
              "9139    Meral Başkan askerin elinde ki G-3 Piyade tüfe...\n",
              "Name: text, Length: 9140, dtype: object"
            ]
          },
          "metadata": {},
          "execution_count": 62
        }
      ]
    },
    {
      "cell_type": "code",
      "source": [
        "from Preprocessor import preprocess\n",
        "df['text'] = df['text'].apply(preprocess)"
      ],
      "metadata": {
        "id": "hrfv1Qc-rrCE"
      },
      "execution_count": 63,
      "outputs": []
    },
    {
      "cell_type": "markdown",
      "source": [
        "## After Preprocessing"
      ],
      "metadata": {
        "id": "P8OpWwz_ueom"
      }
    },
    {
      "cell_type": "code",
      "source": [
        "df[\"text\"][0]"
      ],
      "metadata": {
        "colab": {
          "base_uri": "https://localhost:8080/",
          "height": 35
        },
        "id": "LYQXJ5AOrq_l",
        "outputId": "ad18a097-197c-4522-d9da-fd3df26b6b38"
      },
      "execution_count": 64,
      "outputs": [
        {
          "output_type": "execute_result",
          "data": {
            "text/plain": [
              "'<hashtag> yıkılasınisrail </hashtag> <http> t.co </http>'"
            ],
            "application/vnd.google.colaboratory.intrinsic+json": {
              "type": "string"
            }
          },
          "metadata": {},
          "execution_count": 64
        }
      ]
    },
    {
      "cell_type": "code",
      "source": [
        "df[\"text\"][1]"
      ],
      "metadata": {
        "colab": {
          "base_uri": "https://localhost:8080/",
          "height": 53
        },
        "id": "K2nZP_vtrq7t",
        "outputId": "e3ea6608-e7c2-41da-e71a-a61581f2f1dd"
      },
      "execution_count": 65,
      "outputs": [
        {
          "output_type": "execute_result",
          "data": {
            "text/plain": [
              "'@user @user <hashtag> alaqsaunderattack </hashtag> <hashtag> المسجد_الأقصي_بأعيننا </hashtag> <hashtag> freepalestine </hashtag> <hashtag> freeahmadmanasra </hashtag> <hashtag> aksadabaskınvar </hashtag> <hashtag> keepeyeonalaqsa </hashtag> <hashtag> gözümüzkulağımızaksada </hashtag> <hashtag> unchilding </hashtag>'"
            ],
            "application/vnd.google.colaboratory.intrinsic+json": {
              "type": "string"
            }
          },
          "metadata": {},
          "execution_count": 65
        }
      ]
    },
    {
      "cell_type": "markdown",
      "source": [
        "## Examining the Duplicates and their labels"
      ],
      "metadata": {
        "id": "Bq8_d271u5FU"
      }
    },
    {
      "cell_type": "code",
      "source": [
        "duplicates = df[df.duplicated('text', keep=False)]\n",
        "sorted_duplicates = duplicates.sort_values(by='text')\n",
        "print(sorted_duplicates[['text', 'label']])"
      ],
      "metadata": {
        "colab": {
          "base_uri": "https://localhost:8080/"
        },
        "id": "L5mBEbpGrq2T",
        "outputId": "60e60476-6964-467c-efaf-0d385211ec5c"
      },
      "execution_count": 66,
      "outputs": [
        {
          "output_type": "stream",
          "name": "stdout",
          "text": [
            "                                                   text  label\n",
            "6489  \"burada iç savaş var, suriyeliler yağmaya başl...      0\n",
            "6412  \"burada iç savaş var, suriyeliler yağmaya başl...      0\n",
            "5557  \"enkazdan ceset çıkarıp kenara koyuyoruz. bir ...      0\n",
            "5519  \"enkazdan ceset çıkarıp kenara koyuyoruz. bir ...      0\n",
            "5594  \"enkazdan ceset çıkarıp kenara koyuyoruz. bir ...      0\n",
            "...                                                 ...    ...\n",
            "7293  ülkemde mülteci istemiyorum <hashtag> ülkemdem...      0\n",
            "7071  ülkemde mülteci istemiyorum <hashtag> ülkemdem...      0\n",
            "9005  şunu iyi bil yunanistan! fıtrat değişir sanma!...      1\n",
            "8728  şunu iyi bil yunanistan! fıtrat değişir sanma!...      1\n",
            "9135  şunu iyi bil yunanistan! fıtrat değişir sanma!...      1\n",
            "\n",
            "[848 rows x 2 columns]\n"
          ]
        }
      ]
    },
    {
      "cell_type": "markdown",
      "source": [
        "You can see that some annotations are wrong."
      ],
      "metadata": {
        "id": "nvDym94NvHmP"
      }
    },
    {
      "cell_type": "code",
      "source": [
        "grouped = sorted_duplicates.groupby('text')\n",
        "conflicting_duplicates = grouped.filter(lambda x: set(x['label']) == {0, 1})\n",
        "conflicting_duplicates"
      ],
      "metadata": {
        "colab": {
          "base_uri": "https://localhost:8080/",
          "height": 424
        },
        "id": "lOivCFFvrqwh",
        "outputId": "638d8277-b163-459d-9032-a1fc4db5d985"
      },
      "execution_count": 67,
      "outputs": [
        {
          "output_type": "execute_result",
          "data": {
            "text/plain": [
              "      index                   id  \\\n",
              "23       23  1393361140265201666   \n",
              "139     139  1393360764153606149   \n",
              "229     229  1392914857821884416   \n",
              "1672   1672  1394282105702653958   \n",
              "333     333  1393698217372565504   \n",
              "...     ...                  ...   \n",
              "5         5  1392461844179206148   \n",
              "658     658  1391767883747897350   \n",
              "220     220  1391797816624914432   \n",
              "426     426  1392433299486912513   \n",
              "2239   2239  1392403022903488516   \n",
              "\n",
              "                                                   text  label  \n",
              "23    <hashtag> bbc </hashtag> <hashtag> cnn </hasht...      1  \n",
              "139   <hashtag> bbc </hashtag> <hashtag> cnn </hasht...      0  \n",
              "229   <hashtag> kahrolsunisrail </hashtag> <http> t....      1  \n",
              "1672  <hashtag> kahrolsunisrail </hashtag> <http> t....      0  \n",
              "333   <hashtag> kahrolsunisrail </hashtag> <http> t....      0  \n",
              "...                                                 ...    ...  \n",
              "5     uyan ey müslüman! i̇lk kıblen, mübarek mescid-...      0  \n",
              "658   uyan ey müslüman! i̇lk kıblen, mübarek mescid-...      0  \n",
              "220   uyan ey müslüman! i̇lk kıblen, mübarek mescid-...      0  \n",
              "426   uyan ey müslüman! i̇lk kıblen, mübarek mescid-...      1  \n",
              "2239  uyan ey müslüman! i̇lk kıblen, mübarek mescid-...      0  \n",
              "\n",
              "[333 rows x 4 columns]"
            ],
            "text/html": [
              "\n",
              "  <div id=\"df-0084304a-17a6-463d-8fc4-667a1e40eee5\" class=\"colab-df-container\">\n",
              "    <div>\n",
              "<style scoped>\n",
              "    .dataframe tbody tr th:only-of-type {\n",
              "        vertical-align: middle;\n",
              "    }\n",
              "\n",
              "    .dataframe tbody tr th {\n",
              "        vertical-align: top;\n",
              "    }\n",
              "\n",
              "    .dataframe thead th {\n",
              "        text-align: right;\n",
              "    }\n",
              "</style>\n",
              "<table border=\"1\" class=\"dataframe\">\n",
              "  <thead>\n",
              "    <tr style=\"text-align: right;\">\n",
              "      <th></th>\n",
              "      <th>index</th>\n",
              "      <th>id</th>\n",
              "      <th>text</th>\n",
              "      <th>label</th>\n",
              "    </tr>\n",
              "  </thead>\n",
              "  <tbody>\n",
              "    <tr>\n",
              "      <th>23</th>\n",
              "      <td>23</td>\n",
              "      <td>1393361140265201666</td>\n",
              "      <td>&lt;hashtag&gt; bbc &lt;/hashtag&gt; &lt;hashtag&gt; cnn &lt;/hasht...</td>\n",
              "      <td>1</td>\n",
              "    </tr>\n",
              "    <tr>\n",
              "      <th>139</th>\n",
              "      <td>139</td>\n",
              "      <td>1393360764153606149</td>\n",
              "      <td>&lt;hashtag&gt; bbc &lt;/hashtag&gt; &lt;hashtag&gt; cnn &lt;/hasht...</td>\n",
              "      <td>0</td>\n",
              "    </tr>\n",
              "    <tr>\n",
              "      <th>229</th>\n",
              "      <td>229</td>\n",
              "      <td>1392914857821884416</td>\n",
              "      <td>&lt;hashtag&gt; kahrolsunisrail &lt;/hashtag&gt; &lt;http&gt; t....</td>\n",
              "      <td>1</td>\n",
              "    </tr>\n",
              "    <tr>\n",
              "      <th>1672</th>\n",
              "      <td>1672</td>\n",
              "      <td>1394282105702653958</td>\n",
              "      <td>&lt;hashtag&gt; kahrolsunisrail &lt;/hashtag&gt; &lt;http&gt; t....</td>\n",
              "      <td>0</td>\n",
              "    </tr>\n",
              "    <tr>\n",
              "      <th>333</th>\n",
              "      <td>333</td>\n",
              "      <td>1393698217372565504</td>\n",
              "      <td>&lt;hashtag&gt; kahrolsunisrail &lt;/hashtag&gt; &lt;http&gt; t....</td>\n",
              "      <td>0</td>\n",
              "    </tr>\n",
              "    <tr>\n",
              "      <th>...</th>\n",
              "      <td>...</td>\n",
              "      <td>...</td>\n",
              "      <td>...</td>\n",
              "      <td>...</td>\n",
              "    </tr>\n",
              "    <tr>\n",
              "      <th>5</th>\n",
              "      <td>5</td>\n",
              "      <td>1392461844179206148</td>\n",
              "      <td>uyan ey müslüman! i̇lk kıblen, mübarek mescid-...</td>\n",
              "      <td>0</td>\n",
              "    </tr>\n",
              "    <tr>\n",
              "      <th>658</th>\n",
              "      <td>658</td>\n",
              "      <td>1391767883747897350</td>\n",
              "      <td>uyan ey müslüman! i̇lk kıblen, mübarek mescid-...</td>\n",
              "      <td>0</td>\n",
              "    </tr>\n",
              "    <tr>\n",
              "      <th>220</th>\n",
              "      <td>220</td>\n",
              "      <td>1391797816624914432</td>\n",
              "      <td>uyan ey müslüman! i̇lk kıblen, mübarek mescid-...</td>\n",
              "      <td>0</td>\n",
              "    </tr>\n",
              "    <tr>\n",
              "      <th>426</th>\n",
              "      <td>426</td>\n",
              "      <td>1392433299486912513</td>\n",
              "      <td>uyan ey müslüman! i̇lk kıblen, mübarek mescid-...</td>\n",
              "      <td>1</td>\n",
              "    </tr>\n",
              "    <tr>\n",
              "      <th>2239</th>\n",
              "      <td>2239</td>\n",
              "      <td>1392403022903488516</td>\n",
              "      <td>uyan ey müslüman! i̇lk kıblen, mübarek mescid-...</td>\n",
              "      <td>0</td>\n",
              "    </tr>\n",
              "  </tbody>\n",
              "</table>\n",
              "<p>333 rows × 4 columns</p>\n",
              "</div>\n",
              "    <div class=\"colab-df-buttons\">\n",
              "\n",
              "  <div class=\"colab-df-container\">\n",
              "    <button class=\"colab-df-convert\" onclick=\"convertToInteractive('df-0084304a-17a6-463d-8fc4-667a1e40eee5')\"\n",
              "            title=\"Convert this dataframe to an interactive table.\"\n",
              "            style=\"display:none;\">\n",
              "\n",
              "  <svg xmlns=\"http://www.w3.org/2000/svg\" height=\"24px\" viewBox=\"0 -960 960 960\">\n",
              "    <path d=\"M120-120v-720h720v720H120Zm60-500h600v-160H180v160Zm220 220h160v-160H400v160Zm0 220h160v-160H400v160ZM180-400h160v-160H180v160Zm440 0h160v-160H620v160ZM180-180h160v-160H180v160Zm440 0h160v-160H620v160Z\"/>\n",
              "  </svg>\n",
              "    </button>\n",
              "\n",
              "  <style>\n",
              "    .colab-df-container {\n",
              "      display:flex;\n",
              "      gap: 12px;\n",
              "    }\n",
              "\n",
              "    .colab-df-convert {\n",
              "      background-color: #E8F0FE;\n",
              "      border: none;\n",
              "      border-radius: 50%;\n",
              "      cursor: pointer;\n",
              "      display: none;\n",
              "      fill: #1967D2;\n",
              "      height: 32px;\n",
              "      padding: 0 0 0 0;\n",
              "      width: 32px;\n",
              "    }\n",
              "\n",
              "    .colab-df-convert:hover {\n",
              "      background-color: #E2EBFA;\n",
              "      box-shadow: 0px 1px 2px rgba(60, 64, 67, 0.3), 0px 1px 3px 1px rgba(60, 64, 67, 0.15);\n",
              "      fill: #174EA6;\n",
              "    }\n",
              "\n",
              "    .colab-df-buttons div {\n",
              "      margin-bottom: 4px;\n",
              "    }\n",
              "\n",
              "    [theme=dark] .colab-df-convert {\n",
              "      background-color: #3B4455;\n",
              "      fill: #D2E3FC;\n",
              "    }\n",
              "\n",
              "    [theme=dark] .colab-df-convert:hover {\n",
              "      background-color: #434B5C;\n",
              "      box-shadow: 0px 1px 3px 1px rgba(0, 0, 0, 0.15);\n",
              "      filter: drop-shadow(0px 1px 2px rgba(0, 0, 0, 0.3));\n",
              "      fill: #FFFFFF;\n",
              "    }\n",
              "  </style>\n",
              "\n",
              "    <script>\n",
              "      const buttonEl =\n",
              "        document.querySelector('#df-0084304a-17a6-463d-8fc4-667a1e40eee5 button.colab-df-convert');\n",
              "      buttonEl.style.display =\n",
              "        google.colab.kernel.accessAllowed ? 'block' : 'none';\n",
              "\n",
              "      async function convertToInteractive(key) {\n",
              "        const element = document.querySelector('#df-0084304a-17a6-463d-8fc4-667a1e40eee5');\n",
              "        const dataTable =\n",
              "          await google.colab.kernel.invokeFunction('convertToInteractive',\n",
              "                                                    [key], {});\n",
              "        if (!dataTable) return;\n",
              "\n",
              "        const docLinkHtml = 'Like what you see? Visit the ' +\n",
              "          '<a target=\"_blank\" href=https://colab.research.google.com/notebooks/data_table.ipynb>data table notebook</a>'\n",
              "          + ' to learn more about interactive tables.';\n",
              "        element.innerHTML = '';\n",
              "        dataTable['output_type'] = 'display_data';\n",
              "        await google.colab.output.renderOutput(dataTable, element);\n",
              "        const docLink = document.createElement('div');\n",
              "        docLink.innerHTML = docLinkHtml;\n",
              "        element.appendChild(docLink);\n",
              "      }\n",
              "    </script>\n",
              "  </div>\n",
              "\n",
              "\n",
              "<div id=\"df-00156cff-1e1d-4bbc-8170-409f9e981e61\">\n",
              "  <button class=\"colab-df-quickchart\" onclick=\"quickchart('df-00156cff-1e1d-4bbc-8170-409f9e981e61')\"\n",
              "            title=\"Suggest charts\"\n",
              "            style=\"display:none;\">\n",
              "\n",
              "<svg xmlns=\"http://www.w3.org/2000/svg\" height=\"24px\"viewBox=\"0 0 24 24\"\n",
              "     width=\"24px\">\n",
              "    <g>\n",
              "        <path d=\"M19 3H5c-1.1 0-2 .9-2 2v14c0 1.1.9 2 2 2h14c1.1 0 2-.9 2-2V5c0-1.1-.9-2-2-2zM9 17H7v-7h2v7zm4 0h-2V7h2v10zm4 0h-2v-4h2v4z\"/>\n",
              "    </g>\n",
              "</svg>\n",
              "  </button>\n",
              "\n",
              "<style>\n",
              "  .colab-df-quickchart {\n",
              "      --bg-color: #E8F0FE;\n",
              "      --fill-color: #1967D2;\n",
              "      --hover-bg-color: #E2EBFA;\n",
              "      --hover-fill-color: #174EA6;\n",
              "      --disabled-fill-color: #AAA;\n",
              "      --disabled-bg-color: #DDD;\n",
              "  }\n",
              "\n",
              "  [theme=dark] .colab-df-quickchart {\n",
              "      --bg-color: #3B4455;\n",
              "      --fill-color: #D2E3FC;\n",
              "      --hover-bg-color: #434B5C;\n",
              "      --hover-fill-color: #FFFFFF;\n",
              "      --disabled-bg-color: #3B4455;\n",
              "      --disabled-fill-color: #666;\n",
              "  }\n",
              "\n",
              "  .colab-df-quickchart {\n",
              "    background-color: var(--bg-color);\n",
              "    border: none;\n",
              "    border-radius: 50%;\n",
              "    cursor: pointer;\n",
              "    display: none;\n",
              "    fill: var(--fill-color);\n",
              "    height: 32px;\n",
              "    padding: 0;\n",
              "    width: 32px;\n",
              "  }\n",
              "\n",
              "  .colab-df-quickchart:hover {\n",
              "    background-color: var(--hover-bg-color);\n",
              "    box-shadow: 0 1px 2px rgba(60, 64, 67, 0.3), 0 1px 3px 1px rgba(60, 64, 67, 0.15);\n",
              "    fill: var(--button-hover-fill-color);\n",
              "  }\n",
              "\n",
              "  .colab-df-quickchart-complete:disabled,\n",
              "  .colab-df-quickchart-complete:disabled:hover {\n",
              "    background-color: var(--disabled-bg-color);\n",
              "    fill: var(--disabled-fill-color);\n",
              "    box-shadow: none;\n",
              "  }\n",
              "\n",
              "  .colab-df-spinner {\n",
              "    border: 2px solid var(--fill-color);\n",
              "    border-color: transparent;\n",
              "    border-bottom-color: var(--fill-color);\n",
              "    animation:\n",
              "      spin 1s steps(1) infinite;\n",
              "  }\n",
              "\n",
              "  @keyframes spin {\n",
              "    0% {\n",
              "      border-color: transparent;\n",
              "      border-bottom-color: var(--fill-color);\n",
              "      border-left-color: var(--fill-color);\n",
              "    }\n",
              "    20% {\n",
              "      border-color: transparent;\n",
              "      border-left-color: var(--fill-color);\n",
              "      border-top-color: var(--fill-color);\n",
              "    }\n",
              "    30% {\n",
              "      border-color: transparent;\n",
              "      border-left-color: var(--fill-color);\n",
              "      border-top-color: var(--fill-color);\n",
              "      border-right-color: var(--fill-color);\n",
              "    }\n",
              "    40% {\n",
              "      border-color: transparent;\n",
              "      border-right-color: var(--fill-color);\n",
              "      border-top-color: var(--fill-color);\n",
              "    }\n",
              "    60% {\n",
              "      border-color: transparent;\n",
              "      border-right-color: var(--fill-color);\n",
              "    }\n",
              "    80% {\n",
              "      border-color: transparent;\n",
              "      border-right-color: var(--fill-color);\n",
              "      border-bottom-color: var(--fill-color);\n",
              "    }\n",
              "    90% {\n",
              "      border-color: transparent;\n",
              "      border-bottom-color: var(--fill-color);\n",
              "    }\n",
              "  }\n",
              "</style>\n",
              "\n",
              "  <script>\n",
              "    async function quickchart(key) {\n",
              "      const quickchartButtonEl =\n",
              "        document.querySelector('#' + key + ' button');\n",
              "      quickchartButtonEl.disabled = true;  // To prevent multiple clicks.\n",
              "      quickchartButtonEl.classList.add('colab-df-spinner');\n",
              "      try {\n",
              "        const charts = await google.colab.kernel.invokeFunction(\n",
              "            'suggestCharts', [key], {});\n",
              "      } catch (error) {\n",
              "        console.error('Error during call to suggestCharts:', error);\n",
              "      }\n",
              "      quickchartButtonEl.classList.remove('colab-df-spinner');\n",
              "      quickchartButtonEl.classList.add('colab-df-quickchart-complete');\n",
              "    }\n",
              "    (() => {\n",
              "      let quickchartButtonEl =\n",
              "        document.querySelector('#df-00156cff-1e1d-4bbc-8170-409f9e981e61 button');\n",
              "      quickchartButtonEl.style.display =\n",
              "        google.colab.kernel.accessAllowed ? 'block' : 'none';\n",
              "    })();\n",
              "  </script>\n",
              "</div>\n",
              "    </div>\n",
              "  </div>\n"
            ],
            "application/vnd.google.colaboratory.intrinsic+json": {
              "type": "dataframe",
              "variable_name": "conflicting_duplicates",
              "summary": "{\n  \"name\": \"conflicting_duplicates\",\n  \"rows\": 333,\n  \"fields\": [\n    {\n      \"column\": \"index\",\n      \"properties\": {\n        \"dtype\": \"number\",\n        \"std\": 1796,\n        \"min\": 5,\n        \"max\": 5754,\n        \"num_unique_values\": 332,\n        \"samples\": [\n          970,\n          907,\n          5673\n        ],\n        \"semantic_type\": \"\",\n        \"description\": \"\"\n      }\n    },\n    {\n      \"column\": \"id\",\n      \"properties\": {\n        \"dtype\": \"number\",\n        \"std\": 93421529566507088,\n        \"min\": 1353049567248457729,\n        \"max\": 1625548897715208213,\n        \"num_unique_values\": 332,\n        \"samples\": [\n          1392630061447188491,\n          1557115649175994375,\n          1624416806965243905\n        ],\n        \"semantic_type\": \"\",\n        \"description\": \"\"\n      }\n    },\n    {\n      \"column\": \"text\",\n      \"properties\": {\n        \"dtype\": \"category\",\n        \"num_unique_values\": 30,\n        \"samples\": [\n          \"i\\u0307srail\\u2019in \\u00fc\\u00e7 g\\u00fcn devam eden bombard\\u0131man\\u0131n\\u0131n ard\\u0131ndan var\\u0131lan ate\\u015fkes gazze\\u2019deki y\\u0131k\\u0131m\\u0131n boyutlar\\u0131n\\u0131 ortaya \\u00e7\\u0131kard\\u0131. 15\\u2019i \\u00e7ocuk 44 filistinlinin \\u00f6ld\\u00fc\\u011f\\u00fc sald\\u0131r\\u0131larda 1500 kadar ev zarar g\\u00f6rd\\u00fc, dokuz apartman yerle bir oldu. <hashtag> i\\u0307srailhaddinibil </hashtag> <http> t.co </http>\",\n          \"@user <hashtag> katili\\u0307srail </hashtag>\",\n          \"@user reisin \\u015ferefsiz s\\u00f6z\\u00fcne \\u00e7ok bozulmu\\u015flar adam koskoca cumhurba\\u015fkan\\u0131 kalk\\u0131pta onun bunun \\u00e7ocu\\u011fusunuz diyemiyor idare edin..! suriyeliler / ekrem imamo\\u011flu muharrem / kemal k\\u0131l\\u0131\\u00e7daro\\u011flu muhalefet / elon musk / ek\\u015fi s\\u00f6zl\\u00fck cumhurba\\u015fkan\\u0131 erdo\\u011fan\"\n        ],\n        \"semantic_type\": \"\",\n        \"description\": \"\"\n      }\n    },\n    {\n      \"column\": \"label\",\n      \"properties\": {\n        \"dtype\": \"number\",\n        \"std\": 0,\n        \"min\": 0,\n        \"max\": 1,\n        \"num_unique_values\": 2,\n        \"samples\": [\n          0,\n          1\n        ],\n        \"semantic_type\": \"\",\n        \"description\": \"\"\n      }\n    }\n  ]\n}"
            }
          },
          "metadata": {},
          "execution_count": 67
        }
      ]
    },
    {
      "cell_type": "markdown",
      "source": [
        "## Removing the conflicting duplicates"
      ],
      "metadata": {
        "id": "NkfuVDnOvNnb"
      }
    },
    {
      "cell_type": "code",
      "source": [
        "conflicting_indices = conflicting_duplicates.index\n",
        "df = df.drop(conflicting_indices)\n",
        "df"
      ],
      "metadata": {
        "colab": {
          "base_uri": "https://localhost:8080/",
          "height": 424
        },
        "id": "6xv9ifLlrqsA",
        "outputId": "896f0997-ec6f-4949-e9a2-ad3744508ab4"
      },
      "execution_count": 68,
      "outputs": [
        {
          "output_type": "execute_result",
          "data": {
            "text/plain": [
              "      index                   id  \\\n",
              "0         0  1394972347308945410   \n",
              "1         1  1516026054686633984   \n",
              "2         2  1393484053677056001   \n",
              "3         3  1392870740890988548   \n",
              "4         4  1515696070386454529   \n",
              "...     ...                  ...   \n",
              "9135    971  1566426636240797700   \n",
              "9136    972  1557681343940755457   \n",
              "9137    973  1529934699187126307   \n",
              "9138    974  1568341795066580995   \n",
              "9139    975  1497595041824583684   \n",
              "\n",
              "                                                   text  label  \n",
              "0     <hashtag> yıkılasınisrail </hashtag> <http> t....      1  \n",
              "1     @user @user <hashtag> alaqsaunderattack </hash...      0  \n",
              "2     şehadetin mübarek olsun cennet kuşu🕊 @user <ha...      1  \n",
              "3     @user <hashtag> qəzzahücumaltındadır </hashtag...      0  \n",
              "4     bugün ribat noktası, okçular tepesi mescid-i a...      0  \n",
              "...                                                 ...    ...  \n",
              "9135  şunu iyi bil yunanistan! fıtrat değişir sanma!...      1  \n",
              "9136  @user @user @user @user @user hala daha siz be...      0  \n",
              "9137  @user türkiye nato'dan çıkarsa bölgede burun k...      0  \n",
              "9138  @user bir gece ansızın gelebiliriz, hemde hery...      1  \n",
              "9139  meral başkan askerin elinde ki g-3 piyade tüfe...      0  \n",
              "\n",
              "[8807 rows x 4 columns]"
            ],
            "text/html": [
              "\n",
              "  <div id=\"df-7cd079ce-e97e-43b3-9ba5-536eef0e2734\" class=\"colab-df-container\">\n",
              "    <div>\n",
              "<style scoped>\n",
              "    .dataframe tbody tr th:only-of-type {\n",
              "        vertical-align: middle;\n",
              "    }\n",
              "\n",
              "    .dataframe tbody tr th {\n",
              "        vertical-align: top;\n",
              "    }\n",
              "\n",
              "    .dataframe thead th {\n",
              "        text-align: right;\n",
              "    }\n",
              "</style>\n",
              "<table border=\"1\" class=\"dataframe\">\n",
              "  <thead>\n",
              "    <tr style=\"text-align: right;\">\n",
              "      <th></th>\n",
              "      <th>index</th>\n",
              "      <th>id</th>\n",
              "      <th>text</th>\n",
              "      <th>label</th>\n",
              "    </tr>\n",
              "  </thead>\n",
              "  <tbody>\n",
              "    <tr>\n",
              "      <th>0</th>\n",
              "      <td>0</td>\n",
              "      <td>1394972347308945410</td>\n",
              "      <td>&lt;hashtag&gt; yıkılasınisrail &lt;/hashtag&gt; &lt;http&gt; t....</td>\n",
              "      <td>1</td>\n",
              "    </tr>\n",
              "    <tr>\n",
              "      <th>1</th>\n",
              "      <td>1</td>\n",
              "      <td>1516026054686633984</td>\n",
              "      <td>@user @user &lt;hashtag&gt; alaqsaunderattack &lt;/hash...</td>\n",
              "      <td>0</td>\n",
              "    </tr>\n",
              "    <tr>\n",
              "      <th>2</th>\n",
              "      <td>2</td>\n",
              "      <td>1393484053677056001</td>\n",
              "      <td>şehadetin mübarek olsun cennet kuşu🕊 @user &lt;ha...</td>\n",
              "      <td>1</td>\n",
              "    </tr>\n",
              "    <tr>\n",
              "      <th>3</th>\n",
              "      <td>3</td>\n",
              "      <td>1392870740890988548</td>\n",
              "      <td>@user &lt;hashtag&gt; qəzzahücumaltındadır &lt;/hashtag...</td>\n",
              "      <td>0</td>\n",
              "    </tr>\n",
              "    <tr>\n",
              "      <th>4</th>\n",
              "      <td>4</td>\n",
              "      <td>1515696070386454529</td>\n",
              "      <td>bugün ribat noktası, okçular tepesi mescid-i a...</td>\n",
              "      <td>0</td>\n",
              "    </tr>\n",
              "    <tr>\n",
              "      <th>...</th>\n",
              "      <td>...</td>\n",
              "      <td>...</td>\n",
              "      <td>...</td>\n",
              "      <td>...</td>\n",
              "    </tr>\n",
              "    <tr>\n",
              "      <th>9135</th>\n",
              "      <td>971</td>\n",
              "      <td>1566426636240797700</td>\n",
              "      <td>şunu iyi bil yunanistan! fıtrat değişir sanma!...</td>\n",
              "      <td>1</td>\n",
              "    </tr>\n",
              "    <tr>\n",
              "      <th>9136</th>\n",
              "      <td>972</td>\n",
              "      <td>1557681343940755457</td>\n",
              "      <td>@user @user @user @user @user hala daha siz be...</td>\n",
              "      <td>0</td>\n",
              "    </tr>\n",
              "    <tr>\n",
              "      <th>9137</th>\n",
              "      <td>973</td>\n",
              "      <td>1529934699187126307</td>\n",
              "      <td>@user türkiye nato'dan çıkarsa bölgede burun k...</td>\n",
              "      <td>0</td>\n",
              "    </tr>\n",
              "    <tr>\n",
              "      <th>9138</th>\n",
              "      <td>974</td>\n",
              "      <td>1568341795066580995</td>\n",
              "      <td>@user bir gece ansızın gelebiliriz, hemde hery...</td>\n",
              "      <td>1</td>\n",
              "    </tr>\n",
              "    <tr>\n",
              "      <th>9139</th>\n",
              "      <td>975</td>\n",
              "      <td>1497595041824583684</td>\n",
              "      <td>meral başkan askerin elinde ki g-3 piyade tüfe...</td>\n",
              "      <td>0</td>\n",
              "    </tr>\n",
              "  </tbody>\n",
              "</table>\n",
              "<p>8807 rows × 4 columns</p>\n",
              "</div>\n",
              "    <div class=\"colab-df-buttons\">\n",
              "\n",
              "  <div class=\"colab-df-container\">\n",
              "    <button class=\"colab-df-convert\" onclick=\"convertToInteractive('df-7cd079ce-e97e-43b3-9ba5-536eef0e2734')\"\n",
              "            title=\"Convert this dataframe to an interactive table.\"\n",
              "            style=\"display:none;\">\n",
              "\n",
              "  <svg xmlns=\"http://www.w3.org/2000/svg\" height=\"24px\" viewBox=\"0 -960 960 960\">\n",
              "    <path d=\"M120-120v-720h720v720H120Zm60-500h600v-160H180v160Zm220 220h160v-160H400v160Zm0 220h160v-160H400v160ZM180-400h160v-160H180v160Zm440 0h160v-160H620v160ZM180-180h160v-160H180v160Zm440 0h160v-160H620v160Z\"/>\n",
              "  </svg>\n",
              "    </button>\n",
              "\n",
              "  <style>\n",
              "    .colab-df-container {\n",
              "      display:flex;\n",
              "      gap: 12px;\n",
              "    }\n",
              "\n",
              "    .colab-df-convert {\n",
              "      background-color: #E8F0FE;\n",
              "      border: none;\n",
              "      border-radius: 50%;\n",
              "      cursor: pointer;\n",
              "      display: none;\n",
              "      fill: #1967D2;\n",
              "      height: 32px;\n",
              "      padding: 0 0 0 0;\n",
              "      width: 32px;\n",
              "    }\n",
              "\n",
              "    .colab-df-convert:hover {\n",
              "      background-color: #E2EBFA;\n",
              "      box-shadow: 0px 1px 2px rgba(60, 64, 67, 0.3), 0px 1px 3px 1px rgba(60, 64, 67, 0.15);\n",
              "      fill: #174EA6;\n",
              "    }\n",
              "\n",
              "    .colab-df-buttons div {\n",
              "      margin-bottom: 4px;\n",
              "    }\n",
              "\n",
              "    [theme=dark] .colab-df-convert {\n",
              "      background-color: #3B4455;\n",
              "      fill: #D2E3FC;\n",
              "    }\n",
              "\n",
              "    [theme=dark] .colab-df-convert:hover {\n",
              "      background-color: #434B5C;\n",
              "      box-shadow: 0px 1px 3px 1px rgba(0, 0, 0, 0.15);\n",
              "      filter: drop-shadow(0px 1px 2px rgba(0, 0, 0, 0.3));\n",
              "      fill: #FFFFFF;\n",
              "    }\n",
              "  </style>\n",
              "\n",
              "    <script>\n",
              "      const buttonEl =\n",
              "        document.querySelector('#df-7cd079ce-e97e-43b3-9ba5-536eef0e2734 button.colab-df-convert');\n",
              "      buttonEl.style.display =\n",
              "        google.colab.kernel.accessAllowed ? 'block' : 'none';\n",
              "\n",
              "      async function convertToInteractive(key) {\n",
              "        const element = document.querySelector('#df-7cd079ce-e97e-43b3-9ba5-536eef0e2734');\n",
              "        const dataTable =\n",
              "          await google.colab.kernel.invokeFunction('convertToInteractive',\n",
              "                                                    [key], {});\n",
              "        if (!dataTable) return;\n",
              "\n",
              "        const docLinkHtml = 'Like what you see? Visit the ' +\n",
              "          '<a target=\"_blank\" href=https://colab.research.google.com/notebooks/data_table.ipynb>data table notebook</a>'\n",
              "          + ' to learn more about interactive tables.';\n",
              "        element.innerHTML = '';\n",
              "        dataTable['output_type'] = 'display_data';\n",
              "        await google.colab.output.renderOutput(dataTable, element);\n",
              "        const docLink = document.createElement('div');\n",
              "        docLink.innerHTML = docLinkHtml;\n",
              "        element.appendChild(docLink);\n",
              "      }\n",
              "    </script>\n",
              "  </div>\n",
              "\n",
              "\n",
              "<div id=\"df-bd6bccb2-9162-4591-b58d-38dc16409bb7\">\n",
              "  <button class=\"colab-df-quickchart\" onclick=\"quickchart('df-bd6bccb2-9162-4591-b58d-38dc16409bb7')\"\n",
              "            title=\"Suggest charts\"\n",
              "            style=\"display:none;\">\n",
              "\n",
              "<svg xmlns=\"http://www.w3.org/2000/svg\" height=\"24px\"viewBox=\"0 0 24 24\"\n",
              "     width=\"24px\">\n",
              "    <g>\n",
              "        <path d=\"M19 3H5c-1.1 0-2 .9-2 2v14c0 1.1.9 2 2 2h14c1.1 0 2-.9 2-2V5c0-1.1-.9-2-2-2zM9 17H7v-7h2v7zm4 0h-2V7h2v10zm4 0h-2v-4h2v4z\"/>\n",
              "    </g>\n",
              "</svg>\n",
              "  </button>\n",
              "\n",
              "<style>\n",
              "  .colab-df-quickchart {\n",
              "      --bg-color: #E8F0FE;\n",
              "      --fill-color: #1967D2;\n",
              "      --hover-bg-color: #E2EBFA;\n",
              "      --hover-fill-color: #174EA6;\n",
              "      --disabled-fill-color: #AAA;\n",
              "      --disabled-bg-color: #DDD;\n",
              "  }\n",
              "\n",
              "  [theme=dark] .colab-df-quickchart {\n",
              "      --bg-color: #3B4455;\n",
              "      --fill-color: #D2E3FC;\n",
              "      --hover-bg-color: #434B5C;\n",
              "      --hover-fill-color: #FFFFFF;\n",
              "      --disabled-bg-color: #3B4455;\n",
              "      --disabled-fill-color: #666;\n",
              "  }\n",
              "\n",
              "  .colab-df-quickchart {\n",
              "    background-color: var(--bg-color);\n",
              "    border: none;\n",
              "    border-radius: 50%;\n",
              "    cursor: pointer;\n",
              "    display: none;\n",
              "    fill: var(--fill-color);\n",
              "    height: 32px;\n",
              "    padding: 0;\n",
              "    width: 32px;\n",
              "  }\n",
              "\n",
              "  .colab-df-quickchart:hover {\n",
              "    background-color: var(--hover-bg-color);\n",
              "    box-shadow: 0 1px 2px rgba(60, 64, 67, 0.3), 0 1px 3px 1px rgba(60, 64, 67, 0.15);\n",
              "    fill: var(--button-hover-fill-color);\n",
              "  }\n",
              "\n",
              "  .colab-df-quickchart-complete:disabled,\n",
              "  .colab-df-quickchart-complete:disabled:hover {\n",
              "    background-color: var(--disabled-bg-color);\n",
              "    fill: var(--disabled-fill-color);\n",
              "    box-shadow: none;\n",
              "  }\n",
              "\n",
              "  .colab-df-spinner {\n",
              "    border: 2px solid var(--fill-color);\n",
              "    border-color: transparent;\n",
              "    border-bottom-color: var(--fill-color);\n",
              "    animation:\n",
              "      spin 1s steps(1) infinite;\n",
              "  }\n",
              "\n",
              "  @keyframes spin {\n",
              "    0% {\n",
              "      border-color: transparent;\n",
              "      border-bottom-color: var(--fill-color);\n",
              "      border-left-color: var(--fill-color);\n",
              "    }\n",
              "    20% {\n",
              "      border-color: transparent;\n",
              "      border-left-color: var(--fill-color);\n",
              "      border-top-color: var(--fill-color);\n",
              "    }\n",
              "    30% {\n",
              "      border-color: transparent;\n",
              "      border-left-color: var(--fill-color);\n",
              "      border-top-color: var(--fill-color);\n",
              "      border-right-color: var(--fill-color);\n",
              "    }\n",
              "    40% {\n",
              "      border-color: transparent;\n",
              "      border-right-color: var(--fill-color);\n",
              "      border-top-color: var(--fill-color);\n",
              "    }\n",
              "    60% {\n",
              "      border-color: transparent;\n",
              "      border-right-color: var(--fill-color);\n",
              "    }\n",
              "    80% {\n",
              "      border-color: transparent;\n",
              "      border-right-color: var(--fill-color);\n",
              "      border-bottom-color: var(--fill-color);\n",
              "    }\n",
              "    90% {\n",
              "      border-color: transparent;\n",
              "      border-bottom-color: var(--fill-color);\n",
              "    }\n",
              "  }\n",
              "</style>\n",
              "\n",
              "  <script>\n",
              "    async function quickchart(key) {\n",
              "      const quickchartButtonEl =\n",
              "        document.querySelector('#' + key + ' button');\n",
              "      quickchartButtonEl.disabled = true;  // To prevent multiple clicks.\n",
              "      quickchartButtonEl.classList.add('colab-df-spinner');\n",
              "      try {\n",
              "        const charts = await google.colab.kernel.invokeFunction(\n",
              "            'suggestCharts', [key], {});\n",
              "      } catch (error) {\n",
              "        console.error('Error during call to suggestCharts:', error);\n",
              "      }\n",
              "      quickchartButtonEl.classList.remove('colab-df-spinner');\n",
              "      quickchartButtonEl.classList.add('colab-df-quickchart-complete');\n",
              "    }\n",
              "    (() => {\n",
              "      let quickchartButtonEl =\n",
              "        document.querySelector('#df-bd6bccb2-9162-4591-b58d-38dc16409bb7 button');\n",
              "      quickchartButtonEl.style.display =\n",
              "        google.colab.kernel.accessAllowed ? 'block' : 'none';\n",
              "    })();\n",
              "  </script>\n",
              "</div>\n",
              "    </div>\n",
              "  </div>\n"
            ],
            "application/vnd.google.colaboratory.intrinsic+json": {
              "type": "dataframe",
              "variable_name": "df",
              "summary": "{\n  \"name\": \"df\",\n  \"rows\": 8807,\n  \"fields\": [\n    {\n      \"column\": \"index\",\n      \"properties\": {\n        \"dtype\": \"number\",\n        \"std\": 1686,\n        \"min\": 0,\n        \"max\": 5923,\n        \"num_unique_values\": 5672,\n        \"samples\": [\n          1170,\n          969,\n          1844\n        ],\n        \"semantic_type\": \"\",\n        \"description\": \"\"\n      }\n    },\n    {\n      \"column\": \"id\",\n      \"properties\": {\n        \"dtype\": \"number\",\n        \"std\": 122758629709362400,\n        \"min\": 1212473058746929152,\n        \"max\": 1625645992442834944,\n        \"num_unique_values\": 8782,\n        \"samples\": [\n          1305101709090357256,\n          1246181935979913218,\n          1625242015561658368\n        ],\n        \"semantic_type\": \"\",\n        \"description\": \"\"\n      }\n    },\n    {\n      \"column\": \"text\",\n      \"properties\": {\n        \"dtype\": \"string\",\n        \"num_unique_values\": 8449,\n        \"samples\": [\n          \"@user @user @user t\\u00fcrkleri suriyelilerle kar\\u015f\\u0131la\\u015ft\\u0131rmak ne demek? t\\u00fcrkler suriyeliler gibi ya\\u015fad\\u0131\\u011f\\u0131 yere ihanet etmiyor , suriyelilerin depremzedelerle dalga ge\\u00e7ti\\u011fini , ya\\u011fma yapt\\u0131\\u011f\\u0131n\\u0131, h\\u0131rs\\u0131zl\\u0131k yap\\u0131p yol kesti\\u011fini g\\u00f6rm\\u00fcyor musun bunlar t\\u00fcrklerle ayn\\u0131 de\\u011fil .a\\u015f\\u015fa\\u011f\\u0131l\\u0131k s\\u00fcr\\u00fcs\\u00fc her \\u015feyi hakedyolar\",\n          \"@user @user bu b\\u00f6yle devam eder <hashtag> g\\u00f6z\\u00fcm\\u00fczkula\\u011f\\u0131m\\u0131zaksada </hashtag>\",\n          \"o kadar can kayb\\u0131,o kadar yaral\\u0131,o kadar olay varken f\\u0131rsat\\u00e7\\u0131l\\u0131k yap\\u0131p battaniye ve erzak fiyatlar\\u0131na zam getiren, enkaz alt\\u0131ndakilerle dalga ge\\u00e7en,enkaz alt\\u0131ndan \\u00e7\\u0131kan \\u00e7ocu\\u011fu ka\\u00e7\\u0131ran insanlarla ayn\\u0131 \\u00fclkede ya\\u015fad\\u0131\\u011f\\u0131m i\\u00e7in utan\\u0131yorum. <hashtag> turkey </hashtag> <hashtag> deprem </hashtag> <hashtag> uelkemdemuelteciistemiyorum </hashtag>\"\n        ],\n        \"semantic_type\": \"\",\n        \"description\": \"\"\n      }\n    },\n    {\n      \"column\": \"label\",\n      \"properties\": {\n        \"dtype\": \"number\",\n        \"std\": 0,\n        \"min\": 0,\n        \"max\": 1,\n        \"num_unique_values\": 2,\n        \"samples\": [\n          0,\n          1\n        ],\n        \"semantic_type\": \"\",\n        \"description\": \"\"\n      }\n    }\n  ]\n}"
            }
          },
          "metadata": {},
          "execution_count": 68
        }
      ]
    },
    {
      "cell_type": "code",
      "source": [
        "df[\"label\"].value_counts()"
      ],
      "metadata": {
        "colab": {
          "base_uri": "https://localhost:8080/"
        },
        "id": "NI9X9Emjrqpl",
        "outputId": "15c41562-4a66-4cd5-d78a-8dfa9f7e2cac"
      },
      "execution_count": 69,
      "outputs": [
        {
          "output_type": "execute_result",
          "data": {
            "text/plain": [
              "0    6155\n",
              "1    2652\n",
              "Name: label, dtype: int64"
            ]
          },
          "metadata": {},
          "execution_count": 69
        }
      ]
    },
    {
      "cell_type": "markdown",
      "source": [
        "# Hashtag Segmentation"
      ],
      "metadata": {
        "id": "C-xlmvPVvgg2"
      }
    },
    {
      "cell_type": "code",
      "source": [
        "import gzip\n",
        "path_to_gz_file = \"/content/drive/MyDrive/SETIMES/tr.txt.gz\" #https://opus.nlpl.eu/SETIMES/bg&tr/v2/SETIMES\n",
        "unzipped_file_path = \"/content/drive/MyDrive/SETIMES/tr.txt\"\n",
        "with gzip.open(path_to_gz_file, 'rt', encoding='utf-8') as gzipped_file:\n",
        "    with open(unzipped_file_path, 'w', encoding='utf-8') as unzipped_file:\n",
        "        for line in gzipped_file:\n",
        "            unzipped_file.write(line)\n",
        "with open(unzipped_file_path, 'r', encoding='utf-8') as file:\n",
        "    content = file.read()\n",
        "print(content[:1000])"
      ],
      "metadata": {
        "colab": {
          "base_uri": "https://localhost:8080/"
        },
        "id": "xKTgl0FsrqnI",
        "outputId": "c9848ff2-a814-423a-a380-3086a4b82350"
      },
      "execution_count": 70,
      "outputs": [
        {
          "output_type": "stream",
          "name": "stdout",
          "text": [
            "Hırvat yerel seçimleri ikinci tura kaldı\n",
            "Sonuçlar, başta büyük şehirler olmak üzere açık farkla bir zafer elde edilmediğini gösterdi.\n",
            "Ve seçim gözlemcileri seçim günü sandık merkezlerinde kampanya yasağının delindiğini bildirdiler.\n",
            "Southeast European Times için Zagreb'den Natasa Radiç'in haberi -- 21/05/09\n",
            "Hırvatlar 17 Mayıs Pazar günü yerel ve bölgesel seçimler için sandık başına gittiler. [Getty Images]\n",
            "17 Mayıs Pazar günkü yerel seçimlerde sandıkların kapanmasından sonra, ilk sonuçlar büyük şehirler arasında sadece Rijeka'da seçmenlerin belediye başkanlarını ilk turda seçtiler.\n",
            "Hırvatistan'ın diğer şehirlerinde hiçbir aday salt zafer elde edemedi.\n",
            "Toplam 1,9 milyon oy kullanıldı.\n",
            "Hırvatistan'ın 1991 yılındaki bağımsızlığından bu yana ilk defa seçmenler 21 eyalet meclisinin 866 üyesi, 126 il ve ilçe meclisinin 2 bin 206 üyesi ve 427 belediye meclisinin 5 bin 343 üyesini doğrudan oyla seçtiler.\n",
            "Seçimlerde toplam 46 bin 325 aday yarıştı.\n",
            "İlk resmi sonuçlar, iktidardaki Hırvat Demokrat \n"
          ]
        }
      ]
    },
    {
      "cell_type": "code",
      "source": [
        "from nltk.tokenize import RegexpTokenizer\n",
        "tokenizer = RegexpTokenizer(r'\\w+')\n",
        "tokens = tokenizer.tokenize(content)\n",
        "lowercase_tokens = [token.lower() for token in tokens]\n",
        "len(lowercase_tokens)"
      ],
      "metadata": {
        "colab": {
          "base_uri": "https://localhost:8080/"
        },
        "id": "iPddeKyprqiK",
        "outputId": "81c06a9a-2e25-49a2-d2c3-9824d4bebc56"
      },
      "execution_count": 71,
      "outputs": [
        {
          "output_type": "execute_result",
          "data": {
            "text/plain": [
              "33144361"
            ]
          },
          "metadata": {},
          "execution_count": 71
        }
      ]
    },
    {
      "cell_type": "code",
      "source": [
        "import nltk\n",
        "from nltk.probability import FreqDist\n",
        "nltk.download('punkt')\n",
        "freq_dist = FreqDist(lowercase_tokens)\n",
        "freq_dist"
      ],
      "metadata": {
        "colab": {
          "base_uri": "https://localhost:8080/"
        },
        "id": "pGs6Gxw7rqf3",
        "outputId": "d5d7015a-0153-4279-cfbd-a235973a0bd0"
      },
      "execution_count": 72,
      "outputs": [
        {
          "output_type": "stream",
          "name": "stderr",
          "text": [
            "[nltk_data] Downloading package punkt to /root/nltk_data...\n",
            "[nltk_data]   Package punkt is already up-to-date!\n"
          ]
        },
        {
          "output_type": "execute_result",
          "data": {
            "text/plain": [
              "FreqDist({'ve': 856523, 'bir': 671742, 'da': 306073, 'bu': 274445, 'için': 238548, 'de': 231744, 'nin': 156881, 'ab': 150788, 'nın': 142821, 'ile': 128895, ...})"
            ]
          },
          "metadata": {},
          "execution_count": 72
        }
      ]
    },
    {
      "cell_type": "code",
      "source": [
        "words_by_frequency= sorted(freq_dist,key= freq_dist.get,reverse=True)\n",
        "words_by_frequency[:10]"
      ],
      "metadata": {
        "colab": {
          "base_uri": "https://localhost:8080/"
        },
        "id": "Zw2LsC65rqbv",
        "outputId": "2b7baad0-4b03-44df-b0b5-a34a36711787"
      },
      "execution_count": 73,
      "outputs": [
        {
          "output_type": "execute_result",
          "data": {
            "text/plain": [
              "['ve', 'bir', 'da', 'bu', 'için', 'de', 'nin', 'ab', 'nın', 'ile']"
            ]
          },
          "metadata": {},
          "execution_count": 73
        }
      ]
    },
    {
      "cell_type": "code",
      "source": [
        "from math import log\n",
        "\n",
        "wordcost = dict((word, log((rank+1)*log(len(freq_dist)))) for rank, word in enumerate(sorted(freq_dist, key=freq_dist.get, reverse=True)))\n",
        "maxword = max(len(word) for word in freq_dist)"
      ],
      "metadata": {
        "id": "ahcdpiwJrqV5"
      },
      "execution_count": 74,
      "outputs": []
    },
    {
      "cell_type": "code",
      "source": [
        "import re\n",
        "def infer_spaces(s):\n",
        "    \"\"\"Infers the location of spaces in a Turkish string without spaces.\"\"\"\n",
        "    s = re.sub(r'[^a-zçöşüğı]', '', s.lower())\n",
        "\n",
        "    def best_match(i):\n",
        "        candidates = enumerate(reversed(cost[max(0, i-maxword):i]))\n",
        "        return min((c + wordcost.get(s[i-k-1:i], float('inf')), k+1) for k,c in candidates)\n",
        "\n",
        "    cost = [0]\n",
        "    for i in range(1, len(s)+1):\n",
        "        c, k = best_match(i)\n",
        "        cost.append(c)\n",
        "\n",
        "    out = []\n",
        "    i = len(s)\n",
        "    while i > 0:\n",
        "        c, k = best_match(i)\n",
        "        assert c == cost[i]\n",
        "        out.append(s[i-k:i])\n",
        "        i -= k\n",
        "\n",
        "    return \" \".join(reversed(out))"
      ],
      "metadata": {
        "id": "xk1dGp0frqTk"
      },
      "execution_count": 75,
      "outputs": []
    },
    {
      "cell_type": "code",
      "source": [
        "hashtag = \"kudüsfilistininbaşkentidir\"\n",
        "print(infer_spaces(hashtag))"
      ],
      "metadata": {
        "colab": {
          "base_uri": "https://localhost:8080/"
        },
        "id": "KcEBzl4Fv3Sg",
        "outputId": "c10d1f65-2d4b-41b2-9995-7659b1921497"
      },
      "execution_count": 76,
      "outputs": [
        {
          "output_type": "stream",
          "name": "stdout",
          "text": [
            "kudüs filistin in başkentidir\n"
          ]
        }
      ]
    },
    {
      "cell_type": "code",
      "source": [
        "def process_hashtags(text, pattern=re.compile(r'<hashtag>(.*?)</hashtag>')):\n",
        "    def replace(match):\n",
        "        hashtag = match.group(1)\n",
        "        spaced_hashtag = infer_spaces(hashtag)\n",
        "        return f'<hashtag>{spaced_hashtag}</hashtag>'\n",
        "\n",
        "    processed_text = pattern.sub(replace, text)\n",
        "    return processed_text\n",
        "df['text'] = df['text'].apply(process_hashtags)"
      ],
      "metadata": {
        "id": "CLne6uu-v3PA"
      },
      "execution_count": 77,
      "outputs": []
    },
    {
      "cell_type": "code",
      "source": [
        "df['text'].iloc[974]"
      ],
      "metadata": {
        "colab": {
          "base_uri": "https://localhost:8080/",
          "height": 35
        },
        "id": "mjRHtjfDv3KT",
        "outputId": "18eccb8b-6db4-42f5-ebb4-edf6e0a4585f"
      },
      "execution_count": 78,
      "outputs": [
        {
          "output_type": "execute_result",
          "data": {
            "text/plain": [
              "'@user filistin’de zulüm varsa…! dünyada adalet yoktur. <hashtag>özgür filistin</hashtag> <hashtag>gazze ateş altında</hashtag> <hashtag>gaza under attack</hashtag> 𝓛𝓪 𝓖𝓪𝓵𝓲𝓫𝓮 𝓘̇𝓵𝓵𝓪𝓵𝓵𝓪𝓱 <http> t.co </http>'"
            ],
            "application/vnd.google.colaboratory.intrinsic+json": {
              "type": "string"
            }
          },
          "metadata": {},
          "execution_count": 78
        }
      ]
    },
    {
      "cell_type": "code",
      "source": [
        "df['text'].iloc[970]"
      ],
      "metadata": {
        "colab": {
          "base_uri": "https://localhost:8080/",
          "height": 35
        },
        "id": "AAeg1_ytv3EE",
        "outputId": "6312d259-ecae-4793-c21a-c474bbb5a24a"
      },
      "execution_count": 79,
      "outputs": [
        {
          "output_type": "execute_result",
          "data": {
            "text/plain": [
              "\"selalarla i̇srail'i durduruyoruz şuan. duyuyorlarmış ve duracaklarmış haha! uygur türkleri? onu boşverin çinden aşı gelecek, onun dışında ilişkiler önemli, para falans.. <hashtag>aksa da baskın var</hashtag>\""
            ],
            "application/vnd.google.colaboratory.intrinsic+json": {
              "type": "string"
            }
          },
          "metadata": {},
          "execution_count": 79
        }
      ]
    },
    {
      "cell_type": "code",
      "source": [
        "df['text'].iloc[950]"
      ],
      "metadata": {
        "colab": {
          "base_uri": "https://localhost:8080/",
          "height": 35
        },
        "id": "BiN4sW_Hv3BK",
        "outputId": "34b04947-9d9a-4dde-f8a0-69ff7bf76940"
      },
      "execution_count": 80,
      "outputs": [
        {
          "output_type": "execute_result",
          "data": {
            "text/plain": [
              "'@user @user <emoji> dalgın_yüz </emoji> <emoji> açık_eller_koyu_ten_tonu </emoji> <hashtag>mescid i aksa</hashtag> <hashtag>kudüs bizimdir</hashtag>'"
            ],
            "application/vnd.google.colaboratory.intrinsic+json": {
              "type": "string"
            }
          },
          "metadata": {},
          "execution_count": 80
        }
      ]
    },
    {
      "cell_type": "markdown",
      "source": [
        "#Train and Validation Split"
      ],
      "metadata": {
        "id": "SqLMHP2jxPUS"
      }
    },
    {
      "cell_type": "markdown",
      "source": [
        "It's better to do before the resampling. Otherwise the algorithm will try to predict things it's already seen before and it will skew your results. In our case, we didn't add the test data to the train data so we only need to split the train and validation sets."
      ],
      "metadata": {
        "id": "sv69rZStyyeT"
      }
    },
    {
      "cell_type": "code",
      "source": [
        "from sklearn.model_selection import train_test_split"
      ],
      "metadata": {
        "id": "iJRg_GZgyyCP"
      },
      "execution_count": 82,
      "outputs": []
    },
    {
      "cell_type": "code",
      "source": [
        "train_set,val_set = train_test_split(df, test_size=0.2, random_state=42)\n",
        "(train_set.shape[0], val_set.shape[0])"
      ],
      "metadata": {
        "colab": {
          "base_uri": "https://localhost:8080/"
        },
        "id": "TFl2slUjxOhE",
        "outputId": "3fb993c1-1e0e-41e8-ac63-b1241d637b88"
      },
      "execution_count": 83,
      "outputs": [
        {
          "output_type": "execute_result",
          "data": {
            "text/plain": [
              "(7045, 1762)"
            ]
          },
          "metadata": {},
          "execution_count": 83
        }
      ]
    },
    {
      "cell_type": "code",
      "source": [
        "train_set[\"label\"].value_counts()"
      ],
      "metadata": {
        "colab": {
          "base_uri": "https://localhost:8080/"
        },
        "id": "P3AqttLW0Wei",
        "outputId": "5460c950-75c9-474a-d466-fd48a095a417"
      },
      "execution_count": 86,
      "outputs": [
        {
          "output_type": "execute_result",
          "data": {
            "text/plain": [
              "0    4927\n",
              "1    2118\n",
              "Name: label, dtype: int64"
            ]
          },
          "metadata": {},
          "execution_count": 86
        }
      ]
    },
    {
      "cell_type": "code",
      "source": [
        "val_set[\"label\"].value_counts()"
      ],
      "metadata": {
        "colab": {
          "base_uri": "https://localhost:8080/"
        },
        "id": "3HsLIV5J0ZJl",
        "outputId": "702e11b5-2709-463e-dfce-d4fe5a681d41"
      },
      "execution_count": 87,
      "outputs": [
        {
          "output_type": "execute_result",
          "data": {
            "text/plain": [
              "0    1228\n",
              "1     534\n",
              "Name: label, dtype: int64"
            ]
          },
          "metadata": {},
          "execution_count": 87
        }
      ]
    },
    {
      "cell_type": "markdown",
      "source": [
        "# Resampling the Training Set"
      ],
      "metadata": {
        "id": "I5PkI9OYwpCc"
      }
    },
    {
      "cell_type": "code",
      "source": [
        "from sklearn.utils import resample"
      ],
      "metadata": {
        "id": "MHnicptNv29F"
      },
      "execution_count": 85,
      "outputs": []
    },
    {
      "cell_type": "code",
      "source": [
        "def resample_to_majority_class(df):\n",
        "    class_counts = train_set['label'].value_counts()\n",
        "    majority_class = class_counts.idxmax()\n",
        "    majority_class_count = class_counts.max()\n",
        "    resampled_dfs = []\n",
        "    for class_label in train_set['label'].unique():\n",
        "        class_df = df[train_set['label'] == class_label]\n",
        "        resampled_class_df = resample(class_df,\n",
        "                                      replace=True,\n",
        "                                      n_samples=majority_class_count,\n",
        "                                      random_state=42)\n",
        "        resampled_dfs.append(resampled_class_df)\n",
        "    resampled_df = pd.concat(resampled_dfs)\n",
        "    return resampled_df\n",
        "train_set_resampled = resample_to_majority_class(train_set)\n",
        "train_set_resampled.shape[0]"
      ],
      "metadata": {
        "colab": {
          "base_uri": "https://localhost:8080/"
        },
        "id": "PeFUhYGWv26r",
        "outputId": "390e53f9-e1a5-4b9b-9bbf-7236e6b7be83"
      },
      "execution_count": 90,
      "outputs": [
        {
          "output_type": "execute_result",
          "data": {
            "text/plain": [
              "9854"
            ]
          },
          "metadata": {},
          "execution_count": 90
        }
      ]
    },
    {
      "cell_type": "code",
      "source": [
        "train_set_resampled[\"label\"].value_counts()"
      ],
      "metadata": {
        "colab": {
          "base_uri": "https://localhost:8080/"
        },
        "id": "OLPh3ptcv24H",
        "outputId": "16977351-1879-4336-f2c4-8a400bb7c155"
      },
      "execution_count": 91,
      "outputs": [
        {
          "output_type": "execute_result",
          "data": {
            "text/plain": [
              "0    4927\n",
              "1    4927\n",
              "Name: label, dtype: int64"
            ]
          },
          "metadata": {},
          "execution_count": 91
        }
      ]
    },
    {
      "cell_type": "markdown",
      "source": [
        "#Save train and test set"
      ],
      "metadata": {
        "id": "JSCPec7t1KU6"
      }
    },
    {
      "cell_type": "code",
      "source": [
        "train_set.to_json(\"/content/drive/MyDrive/pittsburgh-annotation/train.json\",orient=\"records\",lines=True)"
      ],
      "metadata": {
        "id": "NT2CsTNP1HQq"
      },
      "execution_count": 92,
      "outputs": []
    },
    {
      "cell_type": "code",
      "source": [
        "val_set.to_json(\"/content/drive/MyDrive/pittsburgh-annotation/validation.json\",orient=\"records\",lines=True)"
      ],
      "metadata": {
        "id": "9HzfzNZK1aPW"
      },
      "execution_count": 93,
      "outputs": []
    },
    {
      "cell_type": "markdown",
      "source": [
        "# Setting the Seed"
      ],
      "metadata": {
        "id": "Taigyfh2mpEZ"
      }
    },
    {
      "cell_type": "code",
      "source": [
        "def set_seed(seed=12):\n",
        "    random.seed(seed)\n",
        "    np.random.seed(seed)\n",
        "    torch.manual_seed(seed)\n",
        "    torch.cuda.manual_seed_all(seed)\n",
        "\n",
        "set_seed(12)"
      ],
      "metadata": {
        "id": "iYYP5YyjCOn5"
      },
      "execution_count": 94,
      "outputs": []
    },
    {
      "cell_type": "markdown",
      "source": [
        "# Fine Tuning the Model"
      ],
      "metadata": {
        "id": "8mJV4iSBmoa0"
      }
    },
    {
      "cell_type": "code",
      "source": [
        "# Parameters\n",
        "pretrained_model = \"dbmdz/bert-base-turkish-128k-cased\" #https://github.com/stefan-it/turkish-bert\n",
        "max_seq_length = 512\n",
        "batch_size = 8\n",
        "num_epochs = 3\n",
        "learning_rate = 2e-5"
      ],
      "metadata": {
        "id": "HIMGoQnilLJQ"
      },
      "execution_count": 95,
      "outputs": []
    },
    {
      "cell_type": "markdown",
      "source": [
        "## Check if the Cuda is available"
      ],
      "metadata": {
        "id": "IC-67O-AnNAl"
      }
    },
    {
      "cell_type": "code",
      "source": [
        "device = torch.device(\"cuda\" if torch.cuda.is_available() else \"cpu\")"
      ],
      "metadata": {
        "id": "naz4d3NDlM3d"
      },
      "execution_count": 96,
      "outputs": []
    },
    {
      "cell_type": "markdown",
      "source": [
        "## Custom Dataset Class inherited from Pytorch Dataset class"
      ],
      "metadata": {
        "id": "4lrW_0iknQTc"
      }
    },
    {
      "cell_type": "code",
      "source": [
        "class SimpleDataset(Dataset):\n",
        "    def __init__(self, examples, tokenizer, max_length=max_seq_length):\n",
        "        self.examples = examples\n",
        "        self.tokenizer = tokenizer\n",
        "        self.max_length = max_length\n",
        "\n",
        "    def __len__(self):\n",
        "        return len(self.examples)\n",
        "\n",
        "    def __getitem__(self, idx):\n",
        "        text, label = self.examples[idx]\n",
        "        text = text if isinstance(text, str) else \"\"\n",
        "        encoded = self.tokenizer.encode_plus(\n",
        "            text,\n",
        "            add_special_tokens=True,\n",
        "            max_length=self.max_length,\n",
        "            padding='max_length',\n",
        "            return_attention_mask=True,\n",
        "            truncation=True\n",
        "        )\n",
        "        return torch.tensor(encoded['input_ids']), torch.tensor(encoded['attention_mask']), torch.tensor(label)"
      ],
      "metadata": {
        "id": "EKwrhhJLlQjo"
      },
      "execution_count": 98,
      "outputs": []
    },
    {
      "cell_type": "markdown",
      "source": [
        "## Train Data Loading Function"
      ],
      "metadata": {
        "id": "hqDD6xFWnhiW"
      }
    },
    {
      "cell_type": "code",
      "source": [
        "def load_data(filename):\n",
        "    with open(filename, 'r', encoding='utf-8') as file:\n",
        "        lines = [json.loads(line) for line in file.readlines()]\n",
        "    return [(line['text'], line['label']) for line in lines if line['text']]"
      ],
      "metadata": {
        "id": "EK7CugFPlV4z"
      },
      "execution_count": 99,
      "outputs": []
    },
    {
      "cell_type": "markdown",
      "source": [
        "## Tokenize and initiate the pretrained model"
      ],
      "metadata": {
        "id": "psCKLbHdnqb-"
      }
    },
    {
      "cell_type": "code",
      "source": [
        "tokenizer = AutoTokenizer.from_pretrained(pretrained_model)\n",
        "config = BertConfig.from_pretrained(pretrained_model, num_labels=1, hidden_dropout_prob=0.2, attention_probs_dropout_prob=0.2)\n",
        "model = AutoModelForSequenceClassification.from_pretrained(pretrained_model, config=config)\n",
        "model.to(device)"
      ],
      "metadata": {
        "colab": {
          "base_uri": "https://localhost:8080/"
        },
        "id": "I0fOKaDMlYAH",
        "outputId": "881a7063-9c1c-4b05-b36c-13d90795dec0"
      },
      "execution_count": 100,
      "outputs": [
        {
          "output_type": "stream",
          "name": "stderr",
          "text": [
            "Some weights of BertForSequenceClassification were not initialized from the model checkpoint at dbmdz/bert-base-turkish-128k-cased and are newly initialized: ['classifier.bias', 'classifier.weight']\n",
            "You should probably TRAIN this model on a down-stream task to be able to use it for predictions and inference.\n"
          ]
        },
        {
          "output_type": "execute_result",
          "data": {
            "text/plain": [
              "BertForSequenceClassification(\n",
              "  (bert): BertModel(\n",
              "    (embeddings): BertEmbeddings(\n",
              "      (word_embeddings): Embedding(128000, 768, padding_idx=0)\n",
              "      (position_embeddings): Embedding(512, 768)\n",
              "      (token_type_embeddings): Embedding(2, 768)\n",
              "      (LayerNorm): LayerNorm((768,), eps=1e-12, elementwise_affine=True)\n",
              "      (dropout): Dropout(p=0.2, inplace=False)\n",
              "    )\n",
              "    (encoder): BertEncoder(\n",
              "      (layer): ModuleList(\n",
              "        (0-11): 12 x BertLayer(\n",
              "          (attention): BertAttention(\n",
              "            (self): BertSelfAttention(\n",
              "              (query): Linear(in_features=768, out_features=768, bias=True)\n",
              "              (key): Linear(in_features=768, out_features=768, bias=True)\n",
              "              (value): Linear(in_features=768, out_features=768, bias=True)\n",
              "              (dropout): Dropout(p=0.2, inplace=False)\n",
              "            )\n",
              "            (output): BertSelfOutput(\n",
              "              (dense): Linear(in_features=768, out_features=768, bias=True)\n",
              "              (LayerNorm): LayerNorm((768,), eps=1e-12, elementwise_affine=True)\n",
              "              (dropout): Dropout(p=0.2, inplace=False)\n",
              "            )\n",
              "          )\n",
              "          (intermediate): BertIntermediate(\n",
              "            (dense): Linear(in_features=768, out_features=3072, bias=True)\n",
              "            (intermediate_act_fn): GELUActivation()\n",
              "          )\n",
              "          (output): BertOutput(\n",
              "            (dense): Linear(in_features=3072, out_features=768, bias=True)\n",
              "            (LayerNorm): LayerNorm((768,), eps=1e-12, elementwise_affine=True)\n",
              "            (dropout): Dropout(p=0.2, inplace=False)\n",
              "          )\n",
              "        )\n",
              "      )\n",
              "    )\n",
              "    (pooler): BertPooler(\n",
              "      (dense): Linear(in_features=768, out_features=768, bias=True)\n",
              "      (activation): Tanh()\n",
              "    )\n",
              "  )\n",
              "  (dropout): Dropout(p=0.2, inplace=False)\n",
              "  (classifier): Linear(in_features=768, out_features=1, bias=True)\n",
              ")"
            ]
          },
          "metadata": {},
          "execution_count": 100
        }
      ]
    },
    {
      "cell_type": "markdown",
      "source": [
        "## Read train and validation data"
      ],
      "metadata": {
        "id": "yMafWFAXnwp-"
      }
    },
    {
      "cell_type": "code",
      "source": [
        "train_data = load_data(\"/content/drive/MyDrive/pittsburgh-annotation/train.json\")\n",
        "test_data = load_data(\"/content/drive/MyDrive/pittsburgh-annotation/validation.json\")"
      ],
      "metadata": {
        "id": "V7hH4XbklaEu"
      },
      "execution_count": 101,
      "outputs": []
    },
    {
      "cell_type": "code",
      "source": [
        "train_dataset = SimpleDataset(train_data, tokenizer)\n",
        "test_dataset = SimpleDataset(test_data, tokenizer)"
      ],
      "metadata": {
        "id": "rot3VSzIlbWW"
      },
      "execution_count": 102,
      "outputs": []
    },
    {
      "cell_type": "code",
      "source": [
        "train_loader = DataLoader(train_dataset, batch_size=batch_size, shuffle=True)\n",
        "test_loader = DataLoader(test_dataset, batch_size=batch_size)"
      ],
      "metadata": {
        "id": "6sUxJAjgn2ov"
      },
      "execution_count": 103,
      "outputs": []
    },
    {
      "cell_type": "markdown",
      "source": [
        "## Examine Tokenized Data"
      ],
      "metadata": {
        "id": "f2ZDID3dpvkr"
      }
    },
    {
      "cell_type": "code",
      "source": [
        "def show_tokenization(example, tokenizer):\n",
        "    text, _ = example\n",
        "    text = text if isinstance(text, str) else \"\"\n",
        "    encoded = tokenizer.encode_plus(\n",
        "        text,\n",
        "        add_special_tokens=True,\n",
        "        max_length=512,\n",
        "        padding='max_length',\n",
        "        return_attention_mask=True,\n",
        "        return_token_type_ids=False,\n",
        "        truncation=True\n",
        "    )\n",
        "\n",
        "    tokens = tokenizer.convert_ids_to_tokens(encoded['input_ids'])\n",
        "    print(tokens)"
      ],
      "metadata": {
        "id": "kGKEgT27pyGR"
      },
      "execution_count": 104,
      "outputs": []
    },
    {
      "cell_type": "code",
      "source": [
        "show_tokenization(train_data[0], tokenizer)"
      ],
      "metadata": {
        "colab": {
          "base_uri": "https://localhost:8080/"
        },
        "id": "QBswwmzzpzlA",
        "outputId": "5a255de1-ef28-4619-e107-29521a630548"
      },
      "execution_count": 105,
      "outputs": [
        {
          "output_type": "stream",
          "name": "stdout",
          "text": [
            "['[CLS]', '@', 'user', '@', 'user', 'uğur', 'karda', '##ş', 'verdiği', 'ifadede', ',', '“', 'af', '##gan', 'uyruklu', 'bir', 'kişinin', 'cesetlerin', 'kolunu', 'keserek', 'altın', 'aldığına', 'ilişkin', 'bir', 'olaya', 'şahit', 'olmadım', 'ancak', 'şehirde', 'bu', 'tarz', 'iddialar', 'konuşuluyordu', '.', '”', 'demiş', 'yani', 'kulaktan', 'dolma', ',', 'yani', 'yine', 'provokasyon', '.', '[SEP]', '[PAD]', '[PAD]', '[PAD]', '[PAD]', '[PAD]', '[PAD]', '[PAD]', '[PAD]', '[PAD]', '[PAD]', '[PAD]', '[PAD]', '[PAD]', '[PAD]', '[PAD]', '[PAD]', '[PAD]', '[PAD]', '[PAD]', '[PAD]', '[PAD]', '[PAD]', '[PAD]', '[PAD]', '[PAD]', '[PAD]', '[PAD]', '[PAD]', '[PAD]', '[PAD]', '[PAD]', '[PAD]', '[PAD]', '[PAD]', '[PAD]', '[PAD]', '[PAD]', '[PAD]', '[PAD]', '[PAD]', '[PAD]', '[PAD]', '[PAD]', '[PAD]', '[PAD]', '[PAD]', '[PAD]', '[PAD]', '[PAD]', '[PAD]', '[PAD]', '[PAD]', '[PAD]', '[PAD]', '[PAD]', '[PAD]', '[PAD]', '[PAD]', '[PAD]', '[PAD]', '[PAD]', '[PAD]', '[PAD]', '[PAD]', '[PAD]', '[PAD]', '[PAD]', '[PAD]', '[PAD]', '[PAD]', '[PAD]', '[PAD]', '[PAD]', '[PAD]', '[PAD]', '[PAD]', '[PAD]', '[PAD]', '[PAD]', '[PAD]', '[PAD]', '[PAD]', '[PAD]', '[PAD]', '[PAD]', '[PAD]', '[PAD]', '[PAD]', '[PAD]', '[PAD]', '[PAD]', '[PAD]', '[PAD]', '[PAD]', '[PAD]', '[PAD]', '[PAD]', '[PAD]', '[PAD]', '[PAD]', '[PAD]', '[PAD]', '[PAD]', '[PAD]', '[PAD]', '[PAD]', '[PAD]', '[PAD]', '[PAD]', '[PAD]', '[PAD]', '[PAD]', '[PAD]', '[PAD]', '[PAD]', '[PAD]', '[PAD]', '[PAD]', '[PAD]', '[PAD]', '[PAD]', '[PAD]', '[PAD]', '[PAD]', '[PAD]', '[PAD]', '[PAD]', '[PAD]', '[PAD]', '[PAD]', '[PAD]', '[PAD]', '[PAD]', '[PAD]', '[PAD]', '[PAD]', '[PAD]', '[PAD]', '[PAD]', '[PAD]', '[PAD]', '[PAD]', '[PAD]', '[PAD]', '[PAD]', '[PAD]', '[PAD]', '[PAD]', '[PAD]', '[PAD]', '[PAD]', '[PAD]', '[PAD]', '[PAD]', '[PAD]', '[PAD]', '[PAD]', '[PAD]', '[PAD]', '[PAD]', '[PAD]', '[PAD]', '[PAD]', '[PAD]', '[PAD]', '[PAD]', '[PAD]', '[PAD]', '[PAD]', '[PAD]', '[PAD]', '[PAD]', '[PAD]', '[PAD]', '[PAD]', '[PAD]', '[PAD]', '[PAD]', '[PAD]', '[PAD]', '[PAD]', '[PAD]', '[PAD]', '[PAD]', '[PAD]', '[PAD]', '[PAD]', '[PAD]', '[PAD]', '[PAD]', '[PAD]', '[PAD]', '[PAD]', '[PAD]', '[PAD]', '[PAD]', '[PAD]', '[PAD]', '[PAD]', '[PAD]', '[PAD]', '[PAD]', '[PAD]', '[PAD]', '[PAD]', '[PAD]', '[PAD]', '[PAD]', '[PAD]', '[PAD]', '[PAD]', '[PAD]', '[PAD]', '[PAD]', '[PAD]', '[PAD]', '[PAD]', '[PAD]', '[PAD]', '[PAD]', '[PAD]', '[PAD]', '[PAD]', '[PAD]', '[PAD]', '[PAD]', '[PAD]', '[PAD]', '[PAD]', '[PAD]', '[PAD]', '[PAD]', '[PAD]', '[PAD]', '[PAD]', '[PAD]', '[PAD]', '[PAD]', '[PAD]', '[PAD]', '[PAD]', '[PAD]', '[PAD]', '[PAD]', '[PAD]', '[PAD]', '[PAD]', '[PAD]', '[PAD]', '[PAD]', '[PAD]', '[PAD]', '[PAD]', '[PAD]', '[PAD]', '[PAD]', '[PAD]', '[PAD]', '[PAD]', '[PAD]', '[PAD]', '[PAD]', '[PAD]', '[PAD]', '[PAD]', '[PAD]', '[PAD]', '[PAD]', '[PAD]', '[PAD]', '[PAD]', '[PAD]', '[PAD]', '[PAD]', '[PAD]', '[PAD]', '[PAD]', '[PAD]', '[PAD]', '[PAD]', '[PAD]', '[PAD]', '[PAD]', '[PAD]', '[PAD]', '[PAD]', '[PAD]', '[PAD]', '[PAD]', '[PAD]', '[PAD]', '[PAD]', '[PAD]', '[PAD]', '[PAD]', '[PAD]', '[PAD]', '[PAD]', '[PAD]', '[PAD]', '[PAD]', '[PAD]', '[PAD]', '[PAD]', '[PAD]', '[PAD]', '[PAD]', '[PAD]', '[PAD]', '[PAD]', '[PAD]', '[PAD]', '[PAD]', '[PAD]', '[PAD]', '[PAD]', '[PAD]', '[PAD]', '[PAD]', '[PAD]', '[PAD]', '[PAD]', '[PAD]', '[PAD]', '[PAD]', '[PAD]', '[PAD]', '[PAD]', '[PAD]', '[PAD]', '[PAD]', '[PAD]', '[PAD]', '[PAD]', '[PAD]', '[PAD]', '[PAD]', '[PAD]', '[PAD]', '[PAD]', '[PAD]', '[PAD]', '[PAD]', '[PAD]', '[PAD]', '[PAD]', '[PAD]', '[PAD]', '[PAD]', '[PAD]', '[PAD]', '[PAD]', '[PAD]', '[PAD]', '[PAD]', '[PAD]', '[PAD]', '[PAD]', '[PAD]', '[PAD]', '[PAD]', '[PAD]', '[PAD]', '[PAD]', '[PAD]', '[PAD]', '[PAD]', '[PAD]', '[PAD]', '[PAD]', '[PAD]', '[PAD]', '[PAD]', '[PAD]', '[PAD]', '[PAD]', '[PAD]', '[PAD]', '[PAD]', '[PAD]', '[PAD]', '[PAD]', '[PAD]', '[PAD]', '[PAD]', '[PAD]', '[PAD]', '[PAD]', '[PAD]', '[PAD]', '[PAD]', '[PAD]', '[PAD]', '[PAD]', '[PAD]', '[PAD]', '[PAD]', '[PAD]', '[PAD]', '[PAD]', '[PAD]', '[PAD]', '[PAD]', '[PAD]', '[PAD]', '[PAD]', '[PAD]', '[PAD]', '[PAD]', '[PAD]', '[PAD]', '[PAD]', '[PAD]', '[PAD]', '[PAD]', '[PAD]', '[PAD]', '[PAD]', '[PAD]', '[PAD]', '[PAD]', '[PAD]', '[PAD]', '[PAD]', '[PAD]', '[PAD]', '[PAD]', '[PAD]', '[PAD]', '[PAD]', '[PAD]', '[PAD]', '[PAD]', '[PAD]', '[PAD]', '[PAD]', '[PAD]', '[PAD]', '[PAD]', '[PAD]', '[PAD]', '[PAD]', '[PAD]', '[PAD]', '[PAD]', '[PAD]', '[PAD]', '[PAD]', '[PAD]', '[PAD]', '[PAD]', '[PAD]', '[PAD]', '[PAD]', '[PAD]', '[PAD]', '[PAD]', '[PAD]', '[PAD]', '[PAD]', '[PAD]', '[PAD]', '[PAD]', '[PAD]', '[PAD]', '[PAD]', '[PAD]']\n"
          ]
        }
      ]
    },
    {
      "cell_type": "code",
      "source": [
        "show_tokenization(train_data[1], tokenizer)"
      ],
      "metadata": {
        "colab": {
          "base_uri": "https://localhost:8080/"
        },
        "id": "l80Vya7Ipzem",
        "outputId": "07677528-0a56-4fbc-faeb-fee63d4259b6"
      },
      "execution_count": 106,
      "outputs": [
        {
          "output_type": "stream",
          "name": "stdout",
          "text": [
            "['[CLS]', 'bir', 'gün', 'yine', 'geleceğiz', 'inşallah', '<', 'emoji', '>', 'back', '##han', '##d', '_', 'endeksi', '_', 'aşağı', '##yı', '_', 'gösteriyor', '_', 'koyu', '_', 'ten', '_', 'tonu', '<', '/', 'emoji', '>', '<', 'emoji', '>', 'yuvarlak', '_', 'rap', '##tiye', '<', '/', 'emoji', '>', 'biz', 'gelemez', '##sek', ',', 'evlatlarımız', 'gelecekler', '!', '<', 'emoji', '>', 'yuvarlak', '_', 'rap', '##tiye', '<', '/', 'emoji', '>', 'evlatlarımız', 'gelemez', '##se', '!', '<', 'emoji', '>', 'yuvarlak', '_', 'rap', '##tiye', '<', '/', 'emoji', '>', 'torunları', '##mız', 'gelecek', '!', '<', 'emoji', '>', 'back', '##han', '##d', '_', 'endeksi', '_', 'sola', '_', 'yönelik', '_', 'koyu', '_', 'ten', '_', 'tonu', '<', '/', 'emoji', '>', 'bir', '##gun', 'geleceğiz', 've', 'bu', 'zulmü', 'durdur', '##aca', '##giz', '.', '<', 'hashtag', '>', 'free', 'pale', '##sti', '##ne', '<', '/', 'hashtag', '>', '<', 'hashtag', '>', 'gaza', 'under', 'atta', '##ck', '<', '/', 'hashtag', '>', '<', 'hashtag', '>', 'ala', 'q', 'sa', '<', '/', 'hashtag', '>', '<', 'hashtag', '>', 'al', 'q', 'u', 'ds', '<', '/', 'hashtag', '>', '<', 'hashtag', '>', 'mescid', 'i', 'aksa', '<', '/', 'hashtag', '>', '<', 'hashtag', '>', 'katil', 'israil', '<', '/', 'hashtag', '>', '<', 'hashtag', '>', 'kud', '##üs', 'kan', 'ağlıyor', 'em', '##o', 'ji', 'orta', 'parmak', 'koyu', 'ten', 'tonu', 'em', '##o', 'ji', '<', '/', 'hashtag', '>', '<', 'http', '>', 't', '.', 'co', '<', '/', 'http', '>', '<', 'http', '>', 't', '.', 'co', '<', '/', 'http', '>', '[SEP]', '[PAD]', '[PAD]', '[PAD]', '[PAD]', '[PAD]', '[PAD]', '[PAD]', '[PAD]', '[PAD]', '[PAD]', '[PAD]', '[PAD]', '[PAD]', '[PAD]', '[PAD]', '[PAD]', '[PAD]', '[PAD]', '[PAD]', '[PAD]', '[PAD]', '[PAD]', '[PAD]', '[PAD]', '[PAD]', '[PAD]', '[PAD]', '[PAD]', '[PAD]', '[PAD]', '[PAD]', '[PAD]', '[PAD]', '[PAD]', '[PAD]', '[PAD]', '[PAD]', '[PAD]', '[PAD]', '[PAD]', '[PAD]', '[PAD]', '[PAD]', '[PAD]', '[PAD]', '[PAD]', '[PAD]', '[PAD]', '[PAD]', '[PAD]', '[PAD]', '[PAD]', '[PAD]', '[PAD]', '[PAD]', '[PAD]', '[PAD]', '[PAD]', '[PAD]', '[PAD]', '[PAD]', '[PAD]', '[PAD]', '[PAD]', '[PAD]', '[PAD]', '[PAD]', '[PAD]', '[PAD]', '[PAD]', '[PAD]', '[PAD]', '[PAD]', '[PAD]', '[PAD]', '[PAD]', '[PAD]', '[PAD]', '[PAD]', '[PAD]', '[PAD]', '[PAD]', '[PAD]', '[PAD]', '[PAD]', '[PAD]', '[PAD]', '[PAD]', '[PAD]', '[PAD]', '[PAD]', '[PAD]', '[PAD]', '[PAD]', '[PAD]', '[PAD]', '[PAD]', '[PAD]', '[PAD]', '[PAD]', '[PAD]', '[PAD]', '[PAD]', '[PAD]', '[PAD]', '[PAD]', '[PAD]', '[PAD]', '[PAD]', '[PAD]', '[PAD]', '[PAD]', '[PAD]', '[PAD]', '[PAD]', '[PAD]', '[PAD]', '[PAD]', '[PAD]', '[PAD]', '[PAD]', '[PAD]', '[PAD]', '[PAD]', '[PAD]', '[PAD]', '[PAD]', '[PAD]', '[PAD]', '[PAD]', '[PAD]', '[PAD]', '[PAD]', '[PAD]', '[PAD]', '[PAD]', '[PAD]', '[PAD]', '[PAD]', '[PAD]', '[PAD]', '[PAD]', '[PAD]', '[PAD]', '[PAD]', '[PAD]', '[PAD]', '[PAD]', '[PAD]', '[PAD]', '[PAD]', '[PAD]', '[PAD]', '[PAD]', '[PAD]', '[PAD]', '[PAD]', '[PAD]', '[PAD]', '[PAD]', '[PAD]', '[PAD]', '[PAD]', '[PAD]', '[PAD]', '[PAD]', '[PAD]', '[PAD]', '[PAD]', '[PAD]', '[PAD]', '[PAD]', '[PAD]', '[PAD]', '[PAD]', '[PAD]', '[PAD]', '[PAD]', '[PAD]', '[PAD]', '[PAD]', '[PAD]', '[PAD]', '[PAD]', '[PAD]', '[PAD]', '[PAD]', '[PAD]', '[PAD]', '[PAD]', '[PAD]', '[PAD]', '[PAD]', '[PAD]', '[PAD]', '[PAD]', '[PAD]', '[PAD]', '[PAD]', '[PAD]', '[PAD]', '[PAD]', '[PAD]', '[PAD]', '[PAD]', '[PAD]', '[PAD]', '[PAD]', '[PAD]', '[PAD]', '[PAD]', '[PAD]', '[PAD]', '[PAD]', '[PAD]', '[PAD]', '[PAD]', '[PAD]', '[PAD]', '[PAD]', '[PAD]', '[PAD]', '[PAD]', '[PAD]', '[PAD]', '[PAD]', '[PAD]', '[PAD]', '[PAD]', '[PAD]', '[PAD]', '[PAD]', '[PAD]', '[PAD]', '[PAD]', '[PAD]', '[PAD]', '[PAD]', '[PAD]', '[PAD]', '[PAD]', '[PAD]', '[PAD]', '[PAD]', '[PAD]', '[PAD]', '[PAD]', '[PAD]', '[PAD]', '[PAD]', '[PAD]', '[PAD]', '[PAD]', '[PAD]', '[PAD]', '[PAD]', '[PAD]', '[PAD]', '[PAD]', '[PAD]', '[PAD]', '[PAD]', '[PAD]', '[PAD]', '[PAD]', '[PAD]', '[PAD]', '[PAD]', '[PAD]', '[PAD]', '[PAD]', '[PAD]', '[PAD]', '[PAD]', '[PAD]', '[PAD]', '[PAD]', '[PAD]', '[PAD]', '[PAD]', '[PAD]', '[PAD]', '[PAD]', '[PAD]', '[PAD]', '[PAD]', '[PAD]', '[PAD]', '[PAD]', '[PAD]', '[PAD]', '[PAD]', '[PAD]', '[PAD]', '[PAD]', '[PAD]', '[PAD]', '[PAD]']\n"
          ]
        }
      ]
    },
    {
      "cell_type": "code",
      "source": [
        "show_tokenization(train_data[2], tokenizer)"
      ],
      "metadata": {
        "colab": {
          "base_uri": "https://localhost:8080/"
        },
        "id": "4ULFYVpvqDft",
        "outputId": "6da8a52e-d2b7-475a-d304-12dab2fa27b8"
      },
      "execution_count": 107,
      "outputs": [
        {
          "output_type": "stream",
          "name": "stdout",
          "text": [
            "['[CLS]', '@', 'user', '@', 'user', '@', 'user', 'kadın', 'doğru', 'söylüyor', 'suriyeli', '##ler', 'de', 'çalıyor', 'evet', 'ama', 'türkler', 'de', 'çalıyor', 'sosyal', 'medyada', 'görüyoruz', 'a101', '##i', 'yag', '##mal', '##ayip', 'da', '1', 'araba', 'dolusu', 'poşet', 'yükleyen', '##i', '[SEP]', '[PAD]', '[PAD]', '[PAD]', '[PAD]', '[PAD]', '[PAD]', '[PAD]', '[PAD]', '[PAD]', '[PAD]', '[PAD]', '[PAD]', '[PAD]', '[PAD]', '[PAD]', '[PAD]', '[PAD]', '[PAD]', '[PAD]', '[PAD]', '[PAD]', '[PAD]', '[PAD]', '[PAD]', '[PAD]', '[PAD]', '[PAD]', '[PAD]', '[PAD]', '[PAD]', '[PAD]', '[PAD]', '[PAD]', '[PAD]', '[PAD]', '[PAD]', '[PAD]', '[PAD]', '[PAD]', '[PAD]', '[PAD]', '[PAD]', '[PAD]', '[PAD]', '[PAD]', '[PAD]', '[PAD]', '[PAD]', '[PAD]', '[PAD]', '[PAD]', '[PAD]', '[PAD]', '[PAD]', '[PAD]', '[PAD]', '[PAD]', '[PAD]', '[PAD]', '[PAD]', '[PAD]', '[PAD]', '[PAD]', '[PAD]', '[PAD]', '[PAD]', '[PAD]', '[PAD]', '[PAD]', '[PAD]', '[PAD]', '[PAD]', '[PAD]', '[PAD]', '[PAD]', '[PAD]', '[PAD]', '[PAD]', '[PAD]', '[PAD]', '[PAD]', '[PAD]', '[PAD]', '[PAD]', '[PAD]', '[PAD]', '[PAD]', '[PAD]', '[PAD]', '[PAD]', '[PAD]', '[PAD]', '[PAD]', '[PAD]', '[PAD]', '[PAD]', '[PAD]', '[PAD]', '[PAD]', '[PAD]', '[PAD]', '[PAD]', '[PAD]', '[PAD]', '[PAD]', '[PAD]', '[PAD]', '[PAD]', '[PAD]', '[PAD]', '[PAD]', '[PAD]', '[PAD]', '[PAD]', '[PAD]', '[PAD]', '[PAD]', '[PAD]', '[PAD]', '[PAD]', '[PAD]', '[PAD]', '[PAD]', '[PAD]', '[PAD]', '[PAD]', '[PAD]', '[PAD]', '[PAD]', '[PAD]', '[PAD]', '[PAD]', '[PAD]', '[PAD]', '[PAD]', '[PAD]', '[PAD]', '[PAD]', '[PAD]', '[PAD]', '[PAD]', '[PAD]', '[PAD]', '[PAD]', '[PAD]', '[PAD]', '[PAD]', '[PAD]', '[PAD]', '[PAD]', '[PAD]', '[PAD]', '[PAD]', '[PAD]', '[PAD]', '[PAD]', '[PAD]', '[PAD]', '[PAD]', '[PAD]', '[PAD]', '[PAD]', '[PAD]', '[PAD]', '[PAD]', '[PAD]', '[PAD]', '[PAD]', '[PAD]', '[PAD]', '[PAD]', '[PAD]', '[PAD]', '[PAD]', '[PAD]', '[PAD]', '[PAD]', '[PAD]', '[PAD]', '[PAD]', '[PAD]', '[PAD]', '[PAD]', '[PAD]', '[PAD]', '[PAD]', '[PAD]', '[PAD]', '[PAD]', '[PAD]', '[PAD]', '[PAD]', '[PAD]', '[PAD]', '[PAD]', '[PAD]', '[PAD]', '[PAD]', '[PAD]', '[PAD]', '[PAD]', '[PAD]', '[PAD]', '[PAD]', '[PAD]', '[PAD]', '[PAD]', '[PAD]', '[PAD]', '[PAD]', '[PAD]', '[PAD]', '[PAD]', '[PAD]', '[PAD]', '[PAD]', '[PAD]', '[PAD]', '[PAD]', '[PAD]', '[PAD]', '[PAD]', '[PAD]', '[PAD]', '[PAD]', '[PAD]', '[PAD]', '[PAD]', '[PAD]', '[PAD]', '[PAD]', '[PAD]', '[PAD]', '[PAD]', '[PAD]', '[PAD]', '[PAD]', '[PAD]', '[PAD]', '[PAD]', '[PAD]', '[PAD]', '[PAD]', '[PAD]', '[PAD]', '[PAD]', '[PAD]', '[PAD]', '[PAD]', '[PAD]', '[PAD]', '[PAD]', '[PAD]', '[PAD]', '[PAD]', '[PAD]', '[PAD]', '[PAD]', '[PAD]', '[PAD]', '[PAD]', '[PAD]', '[PAD]', '[PAD]', '[PAD]', '[PAD]', '[PAD]', '[PAD]', '[PAD]', '[PAD]', '[PAD]', '[PAD]', '[PAD]', '[PAD]', '[PAD]', '[PAD]', '[PAD]', '[PAD]', '[PAD]', '[PAD]', '[PAD]', '[PAD]', '[PAD]', '[PAD]', '[PAD]', '[PAD]', '[PAD]', '[PAD]', '[PAD]', '[PAD]', '[PAD]', '[PAD]', '[PAD]', '[PAD]', '[PAD]', '[PAD]', '[PAD]', '[PAD]', '[PAD]', '[PAD]', '[PAD]', '[PAD]', '[PAD]', '[PAD]', '[PAD]', '[PAD]', '[PAD]', '[PAD]', '[PAD]', '[PAD]', '[PAD]', '[PAD]', '[PAD]', '[PAD]', '[PAD]', '[PAD]', '[PAD]', '[PAD]', '[PAD]', '[PAD]', '[PAD]', '[PAD]', '[PAD]', '[PAD]', '[PAD]', '[PAD]', '[PAD]', '[PAD]', '[PAD]', '[PAD]', '[PAD]', '[PAD]', '[PAD]', '[PAD]', '[PAD]', '[PAD]', '[PAD]', '[PAD]', '[PAD]', '[PAD]', '[PAD]', '[PAD]', '[PAD]', '[PAD]', '[PAD]', '[PAD]', '[PAD]', '[PAD]', '[PAD]', '[PAD]', '[PAD]', '[PAD]', '[PAD]', '[PAD]', '[PAD]', '[PAD]', '[PAD]', '[PAD]', '[PAD]', '[PAD]', '[PAD]', '[PAD]', '[PAD]', '[PAD]', '[PAD]', '[PAD]', '[PAD]', '[PAD]', '[PAD]', '[PAD]', '[PAD]', '[PAD]', '[PAD]', '[PAD]', '[PAD]', '[PAD]', '[PAD]', '[PAD]', '[PAD]', '[PAD]', '[PAD]', '[PAD]', '[PAD]', '[PAD]', '[PAD]', '[PAD]', '[PAD]', '[PAD]', '[PAD]', '[PAD]', '[PAD]', '[PAD]', '[PAD]', '[PAD]', '[PAD]', '[PAD]', '[PAD]', '[PAD]', '[PAD]', '[PAD]', '[PAD]', '[PAD]', '[PAD]', '[PAD]', '[PAD]', '[PAD]', '[PAD]', '[PAD]', '[PAD]', '[PAD]', '[PAD]', '[PAD]', '[PAD]', '[PAD]', '[PAD]', '[PAD]', '[PAD]', '[PAD]', '[PAD]', '[PAD]', '[PAD]', '[PAD]', '[PAD]', '[PAD]', '[PAD]', '[PAD]', '[PAD]', '[PAD]', '[PAD]', '[PAD]', '[PAD]', '[PAD]', '[PAD]', '[PAD]', '[PAD]', '[PAD]', '[PAD]', '[PAD]', '[PAD]', '[PAD]', '[PAD]', '[PAD]', '[PAD]', '[PAD]', '[PAD]', '[PAD]', '[PAD]', '[PAD]', '[PAD]', '[PAD]', '[PAD]', '[PAD]', '[PAD]', '[PAD]', '[PAD]', '[PAD]', '[PAD]', '[PAD]', '[PAD]', '[PAD]', '[PAD]', '[PAD]', '[PAD]', '[PAD]', '[PAD]', '[PAD]', '[PAD]', '[PAD]', '[PAD]', '[PAD]', '[PAD]', '[PAD]', '[PAD]', '[PAD]', '[PAD]', '[PAD]', '[PAD]']\n"
          ]
        }
      ]
    },
    {
      "cell_type": "markdown",
      "source": [
        "**[CLS]:** This is a special token added at the beginning of every input sequence. For classification tasks, BERT uses the final hidden state corresponding to this token as the aggregate sequence representation.\n",
        "\n",
        "**@user:** These tokens likely represent user mentions typically found in social media text like Twitter. In the original text, these would have been something like @username.\n",
        "\n",
        "Turkish Words and Subwords: Tokens like \"başka\" (meaning \"other\" in Turkish) and \"parti\" (meaning \"party\") are directly from the input text. Subword tokens, such as \"şöför\" followed by \"##leri\", indicate that the original word has been split into smaller parts that BERT can understand, due to either the word being too long or not existing in the vocabulary.\n",
        "\n",
        "**<emoji>:** These tokens suggest that the text contains emoji characters. The tokenizer has replaced the actual emoji with a placeholder token to represent them since BERT's vocabulary doesn't have individual embeddings for emojis.\n",
        "\n",
        "**URL Tokens: **The sequence <http>, t, ., co, <, /, http, > seems to be the tokenizer's way of handling URLs. The actual URL has been split into these tokens to neutralize its specific content and to handle it generically.\n",
        "\n",
        "**[SEP]:** This special token marks the end of a sequence. If there were a second sentence or segment, the [SEP] token would also be used to separate the two segments.\n",
        "\n",
        "**[PAD]:** These tokens are used to pad the sequence to the maximum length specified in the tokenizer. Padding ensures that all sequences in a batch have the same length, which is necessary for efficient batch processing on the GPU.\n",
        "\n",
        "Subword Tokenization: **bold text** The use of \"##\" before some tokens indicates that the tokenizer has split a word into subwords. For instance, \"şöför##leri\" means the original word was \"şöförleri\" and it was split into \"şöför\" and the suffix \"leri\" because \"şöförleri\" might not have been in the pre-trained vocabulary as a single token.\n",
        "\n",
        "From this tokenized output, it's clear that BERT is able to handle different types of data present in a typical social media post, such as mentions, emojis, URLs, and mixed languages. However, when emojis are represented by placeholder tokens, any sentiment or additional meaning they might convey will not be captured by the standard BERT model unless it has been specifically trained to understand these placeholders.\n",
        "\n",
        "\n",
        "\n",
        "\n",
        "\n"
      ],
      "metadata": {
        "id": "uigKj0OeqmDt"
      }
    },
    {
      "cell_type": "code",
      "source": [
        "optimizer = torch.optim.AdamW(model.parameters(), lr=learning_rate, weight_decay=1e-5)  #weight_decay=1e-5, lr=2e-5"
      ],
      "metadata": {
        "id": "upG_yi4-ldPA"
      },
      "execution_count": 108,
      "outputs": []
    },
    {
      "cell_type": "code",
      "source": [
        "criterion = torch.nn.BCEWithLogitsLoss()"
      ],
      "metadata": {
        "id": "8x1Fv1svlfqT"
      },
      "execution_count": 109,
      "outputs": []
    },
    {
      "cell_type": "code",
      "source": [
        "epoch_losses, epoch_precisions, epoch_recalls, epoch_f1_macros, epoch_mccs = [], [], [], [], []"
      ],
      "metadata": {
        "id": "AopdgWjDmAMH"
      },
      "execution_count": 110,
      "outputs": []
    },
    {
      "cell_type": "code",
      "source": [
        "scheduler = get_linear_schedule_with_warmup(optimizer,\n",
        "                                            num_warmup_steps=0,\n",
        "                                            num_training_steps=len(train_loader)*num_epochs)"
      ],
      "metadata": {
        "id": "1fLZ6Pv-mDwQ"
      },
      "execution_count": 111,
      "outputs": []
    },
    {
      "cell_type": "code",
      "source": [
        "best_val_loss = float('inf')\n",
        "patience, patience_threshold = 0, 2\n",
        "torch.nn.utils.clip_grad_norm_(model.parameters(), max_norm=1.0)\n",
        "\n",
        "best_f1_macro = 0.0\n",
        "best_model_state = None"
      ],
      "metadata": {
        "id": "ZV1aN0FXmE5N"
      },
      "execution_count": 112,
      "outputs": []
    },
    {
      "cell_type": "code",
      "source": [
        "print(\"Starting training...\")\n",
        "for epoch in range(num_epochs):\n",
        "    model.train()\n",
        "    total_loss = 0\n",
        "    for input_ids, attention_mask, labels in train_loader:\n",
        "        input_ids = input_ids.to(device)\n",
        "        attention_mask = attention_mask.to(device)\n",
        "        labels = labels.to(device)\n",
        "        optimizer.zero_grad()\n",
        "        outputs = model(input_ids, attention_mask=attention_mask)\n",
        "        logits = outputs.logits\n",
        "        logits = logits.squeeze(-1)\n",
        "\n",
        "        loss = criterion(logits, labels.float())\n",
        "        loss.backward()\n",
        "        optimizer.step()\n",
        "        scheduler.step()\n",
        "\n",
        "        total_loss += loss.item()\n",
        "\n",
        "\n",
        "    avg_loss = total_loss / len(train_loader)\n",
        "    epoch_losses.append(avg_loss)\n",
        "\n",
        "\n",
        "\n",
        "    model.eval()\n",
        "    all_preds, all_labels = [], []\n",
        "    with torch.no_grad():\n",
        "        for batch in test_loader:\n",
        "            input_ids, attention_mask, labels = batch\n",
        "\n",
        "            input_ids = input_ids.to(device)\n",
        "            attention_mask = attention_mask.to(device)\n",
        "            labels = labels.to(device)\n",
        "\n",
        "            outputs = model(input_ids, attention_mask=attention_mask)\n",
        "            predictions = torch.sigmoid(outputs.logits).round().view(-1)\n",
        "            all_preds.extend(predictions.tolist())\n",
        "            all_labels.extend(labels.view(-1).tolist())\n",
        "\n",
        "\n",
        "    precision, recall, f1_macro, _ = precision_recall_fscore_support(all_labels, all_preds, average='macro')\n",
        "    mcc = matthews_corrcoef(all_labels, all_preds)\n",
        "    epoch_precisions.append(precision)\n",
        "    epoch_recalls.append(recall)\n",
        "    epoch_f1_macros.append(f1_macro)\n",
        "    epoch_mccs.append(mcc)\n",
        "    if epoch_f1_macros[epoch] > best_f1_macro:\n",
        "        best_f1_macro = epoch_f1_macros[epoch]\n",
        "        best_model_state = model.state_dict().copy()\n",
        "    print(f\"Epoch {epoch + 1}/{num_epochs} - Loss: {avg_loss}, Precision: {precision}, Recall: {recall}, F1 Macro: {f1_macro}, MCC: {mcc}\")\n"
      ],
      "metadata": {
        "colab": {
          "base_uri": "https://localhost:8080/"
        },
        "id": "PCWyfhSzIlOP",
        "outputId": "4267363f-899f-45b7-97de-feab50f30651"
      },
      "execution_count": 113,
      "outputs": [
        {
          "output_type": "stream",
          "name": "stdout",
          "text": [
            "Starting training...\n",
            "Epoch 1/3 - Loss: 0.5770367321798263, Precision: 0.7734315631718176, Recall: 0.7760022081518623, F1 Macro: 0.7746870611466337, MCC: 0.5494277576309268\n",
            "Epoch 2/3 - Loss: 0.42431210320565543, Precision: 0.7934362934362934, Recall: 0.7757200893020533, F1 Macro: 0.7834373594959624, MCC: 0.5688805886325119\n",
            "Epoch 3/3 - Loss: 0.3685059161025874, Precision: 0.7913161529887759, Recall: 0.7897635081555222, F1 Macro: 0.790530201529562, MCC: 0.581077586807127\n"
          ]
        }
      ]
    },
    {
      "cell_type": "code",
      "source": [
        "model_save_path = '/content/drive/MyDrive/pittsburgh-annotation/hate_speech_best_model.pth'\n",
        "torch.save(best_model_state, model_save_path)\n",
        "print(f\"Best F1 Macro Score: {best_f1_macro}\")\n",
        "print(f\"Best model saved to {model_save_path}\")"
      ],
      "metadata": {
        "colab": {
          "base_uri": "https://localhost:8080/"
        },
        "id": "blJPjKHimIV3",
        "outputId": "3116891d-5960-4957-bd75-6a58a1e807c1"
      },
      "execution_count": 114,
      "outputs": [
        {
          "output_type": "stream",
          "name": "stdout",
          "text": [
            "Best F1 Macro Score: 0.790530201529562\n",
            "Best model saved to /content/drive/MyDrive/pittsburgh-annotation/hate_speech_best_model.pth\n"
          ]
        }
      ]
    },
    {
      "cell_type": "code",
      "source": [
        "tokenizer_save_path = '/content/drive/MyDrive/pittsburgh-annotation/hate_speech_tokenizer'\n",
        "tokenizer.save_pretrained(tokenizer_save_path)\n",
        "print(f\"Tokenizer saved to {tokenizer_save_path}\")"
      ],
      "metadata": {
        "colab": {
          "base_uri": "https://localhost:8080/"
        },
        "id": "IBMswmKdmJYS",
        "outputId": "c04fcb0c-25e7-4f99-9d8d-4c61ab858887"
      },
      "execution_count": 115,
      "outputs": [
        {
          "output_type": "stream",
          "name": "stdout",
          "text": [
            "Tokenizer saved to /content/drive/MyDrive/pittsburgh-annotation/hate_speech_tokenizer\n"
          ]
        }
      ]
    },
    {
      "cell_type": "code",
      "source": [
        "plt.figure(figsize=(10, 6))\n",
        "plt.plot(range(1, num_epochs+1), epoch_losses, marker='o', color='blue')\n",
        "plt.title(\"Training Loss Per Epoch\")\n",
        "plt.xlabel(\"Epoch\")\n",
        "plt.ylabel(\"Loss\")\n",
        "plt.xticks(range(1, num_epochs+1))\n",
        "plt.grid(True)\n",
        "plt.show()\n"
      ],
      "metadata": {
        "colab": {
          "base_uri": "https://localhost:8080/",
          "height": 564
        },
        "id": "MHNELBBfmNia",
        "outputId": "7b1b376e-b83e-4bdc-e6a9-570e8b3f2384"
      },
      "execution_count": 116,
      "outputs": [
        {
          "output_type": "display_data",
          "data": {
            "text/plain": [
              "<Figure size 1000x600 with 1 Axes>"
            ],
            "image/png": "[encoded data removed]"
          },
          "metadata": {}
        }
      ]
    },
    {
      "cell_type": "markdown",
      "source": [
        "# Predicting on the test set"
      ],
      "metadata": {
        "id": "EaZv_7CF7NNW"
      }
    },
    {
      "cell_type": "code",
      "source": [
        "import pandas as pd\n",
        "import torch\n",
        "from transformers import AutoModelForSequenceClassification, AutoTokenizer\n",
        "from torch.utils.data import DataLoader, Dataset\n",
        "\n",
        "\n",
        "model_path = '/content/drive/MyDrive/pittsburgh-annotation/hate_speech_best_model.pth'\n",
        "tokenizer_path = 'dbmdz/bert-base-turkish-128k-cased'\n",
        "model = AutoModelForSequenceClassification.from_pretrained(pretrained_model, num_labels=1)\n",
        "model.load_state_dict(torch.load(model_path, map_location=torch.device('cpu')))\n",
        "model.to(device)\n",
        "model.eval()\n",
        "\n",
        "tokenizer = AutoTokenizer.from_pretrained(tokenizer_path)\n",
        "\n",
        "\n",
        "df = pd.read_csv(\"/content/drive/MyDrive/hate-speech-sabancı/TaskA_withoutLabels.csv\")\n",
        "\n",
        "\n",
        "class CSVTextDataset(Dataset):\n",
        "    def __init__(self, texts, tokenizer, max_length=max_seq_length):\n",
        "        self.texts = texts\n",
        "        self.tokenizer = tokenizer\n",
        "        self.max_length = max_length\n",
        "\n",
        "    def __len__(self):\n",
        "        return len(self.texts)\n",
        "\n",
        "    def __getitem__(self, idx):\n",
        "        text = self.texts[idx]\n",
        "        encoded = self.tokenizer.encode_plus(text, add_special_tokens=True, max_length=self.max_length, padding='max_length', return_attention_mask=True, truncation=True)\n",
        "        return torch.tensor(encoded['input_ids']).to(device), torch.tensor(encoded['attention_mask']).to(device)\n",
        "\n",
        "texts = df['Text'].tolist()\n",
        "csv_dataset = CSVTextDataset(texts, tokenizer)\n",
        "csv_loader = DataLoader(csv_dataset, batch_size=batch_size)\n",
        "\n",
        "def predict(model, data_loader):\n",
        "    model.eval()\n",
        "    predictions = []\n",
        "    with torch.no_grad():\n",
        "        for input_ids, attention_mask in data_loader:\n",
        "            outputs = model(input_ids, attention_mask=attention_mask)\n",
        "            probs = torch.sigmoid(outputs.logits).squeeze()\n",
        "            preds = (probs > 0.4).long().cpu().numpy()\n",
        "            predictions.extend(preds)\n",
        "    return predictions\n",
        "\n",
        "\n",
        "predictions = predict(model, csv_loader)\n",
        "df['Prediction'] = predictions\n",
        "\n",
        "\n",
        "output_file_path = \"/content/drive/MyDrive/pittsburgh-annotation/test_predicted.csv\"\n",
        "\n",
        "df.to_csv(output_file_path, index=False)\n"
      ],
      "metadata": {
        "id": "ewrpyRgM5osw",
        "colab": {
          "base_uri": "https://localhost:8080/"
        },
        "outputId": "f9e2435a-1e94-4ae1-ee15-9332fe2329f2"
      },
      "execution_count": 117,
      "outputs": [
        {
          "output_type": "stream",
          "name": "stderr",
          "text": [
            "Some weights of BertForSequenceClassification were not initialized from the model checkpoint at dbmdz/bert-base-turkish-128k-cased and are newly initialized: ['classifier.bias', 'classifier.weight']\n",
            "You should probably TRAIN this model on a down-stream task to be able to use it for predictions and inference.\n"
          ]
        }
      ]
    },
    {
      "cell_type": "code",
      "source": [
        "df = pd.read_csv(\"/content/drive/MyDrive/pittsburgh-annotation/test_predicted.csv\")"
      ],
      "metadata": {
        "id": "LfcY7SU-e-33"
      },
      "execution_count": 119,
      "outputs": []
    },
    {
      "cell_type": "code",
      "source": [
        "df.drop(columns={\"Text\"},inplace=True)"
      ],
      "metadata": {
        "id": "UWlURMqrCKij"
      },
      "execution_count": 125,
      "outputs": []
    },
    {
      "cell_type": "code",
      "source": [
        "df"
      ],
      "metadata": {
        "colab": {
          "base_uri": "https://localhost:8080/",
          "height": 424
        },
        "id": "4KBfDMDn5_-a",
        "outputId": "b3f5ed87-1dfd-42c2-c137-cf36744bb4c6"
      },
      "execution_count": 126,
      "outputs": [
        {
          "output_type": "execute_result",
          "data": {
            "text/plain": [
              "                       ID  Prediction\n",
              "0     1425699068987252737           0\n",
              "1     1623423660676489219           0\n",
              "2     1290750188286619649           0\n",
              "3     1568724242706882563           0\n",
              "4     1624785800138264577           0\n",
              "...                   ...         ...\n",
              "2287  1536992910427754502           1\n",
              "2288  1624910775528693760           1\n",
              "2289  1420279806806138885           1\n",
              "2290  1556404183909253121           0\n",
              "2291  1517402789143527425           0\n",
              "\n",
              "[2292 rows x 2 columns]"
            ],
            "text/html": [
              "\n",
              "  <div id=\"df-3138a43e-549d-4ff9-92a3-04c80d14b93b\" class=\"colab-df-container\">\n",
              "    <div>\n",
              "<style scoped>\n",
              "    .dataframe tbody tr th:only-of-type {\n",
              "        vertical-align: middle;\n",
              "    }\n",
              "\n",
              "    .dataframe tbody tr th {\n",
              "        vertical-align: top;\n",
              "    }\n",
              "\n",
              "    .dataframe thead th {\n",
              "        text-align: right;\n",
              "    }\n",
              "</style>\n",
              "<table border=\"1\" class=\"dataframe\">\n",
              "  <thead>\n",
              "    <tr style=\"text-align: right;\">\n",
              "      <th></th>\n",
              "      <th>ID</th>\n",
              "      <th>Prediction</th>\n",
              "    </tr>\n",
              "  </thead>\n",
              "  <tbody>\n",
              "    <tr>\n",
              "      <th>0</th>\n",
              "      <td>1425699068987252737</td>\n",
              "      <td>0</td>\n",
              "    </tr>\n",
              "    <tr>\n",
              "      <th>1</th>\n",
              "      <td>1623423660676489219</td>\n",
              "      <td>0</td>\n",
              "    </tr>\n",
              "    <tr>\n",
              "      <th>2</th>\n",
              "      <td>1290750188286619649</td>\n",
              "      <td>0</td>\n",
              "    </tr>\n",
              "    <tr>\n",
              "      <th>3</th>\n",
              "      <td>1568724242706882563</td>\n",
              "      <td>0</td>\n",
              "    </tr>\n",
              "    <tr>\n",
              "      <th>4</th>\n",
              "      <td>1624785800138264577</td>\n",
              "      <td>0</td>\n",
              "    </tr>\n",
              "    <tr>\n",
              "      <th>...</th>\n",
              "      <td>...</td>\n",
              "      <td>...</td>\n",
              "    </tr>\n",
              "    <tr>\n",
              "      <th>2287</th>\n",
              "      <td>1536992910427754502</td>\n",
              "      <td>1</td>\n",
              "    </tr>\n",
              "    <tr>\n",
              "      <th>2288</th>\n",
              "      <td>1624910775528693760</td>\n",
              "      <td>1</td>\n",
              "    </tr>\n",
              "    <tr>\n",
              "      <th>2289</th>\n",
              "      <td>1420279806806138885</td>\n",
              "      <td>1</td>\n",
              "    </tr>\n",
              "    <tr>\n",
              "      <th>2290</th>\n",
              "      <td>1556404183909253121</td>\n",
              "      <td>0</td>\n",
              "    </tr>\n",
              "    <tr>\n",
              "      <th>2291</th>\n",
              "      <td>1517402789143527425</td>\n",
              "      <td>0</td>\n",
              "    </tr>\n",
              "  </tbody>\n",
              "</table>\n",
              "<p>2292 rows × 2 columns</p>\n",
              "</div>\n",
              "    <div class=\"colab-df-buttons\">\n",
              "\n",
              "  <div class=\"colab-df-container\">\n",
              "    <button class=\"colab-df-convert\" onclick=\"convertToInteractive('df-3138a43e-549d-4ff9-92a3-04c80d14b93b')\"\n",
              "            title=\"Convert this dataframe to an interactive table.\"\n",
              "            style=\"display:none;\">\n",
              "\n",
              "  <svg xmlns=\"http://www.w3.org/2000/svg\" height=\"24px\" viewBox=\"0 -960 960 960\">\n",
              "    <path d=\"M120-120v-720h720v720H120Zm60-500h600v-160H180v160Zm220 220h160v-160H400v160Zm0 220h160v-160H400v160ZM180-400h160v-160H180v160Zm440 0h160v-160H620v160ZM180-180h160v-160H180v160Zm440 0h160v-160H620v160Z\"/>\n",
              "  </svg>\n",
              "    </button>\n",
              "\n",
              "  <style>\n",
              "    .colab-df-container {\n",
              "      display:flex;\n",
              "      gap: 12px;\n",
              "    }\n",
              "\n",
              "    .colab-df-convert {\n",
              "      background-color: #E8F0FE;\n",
              "      border: none;\n",
              "      border-radius: 50%;\n",
              "      cursor: pointer;\n",
              "      display: none;\n",
              "      fill: #1967D2;\n",
              "      height: 32px;\n",
              "      padding: 0 0 0 0;\n",
              "      width: 32px;\n",
              "    }\n",
              "\n",
              "    .colab-df-convert:hover {\n",
              "      background-color: #E2EBFA;\n",
              "      box-shadow: 0px 1px 2px rgba(60, 64, 67, 0.3), 0px 1px 3px 1px rgba(60, 64, 67, 0.15);\n",
              "      fill: #174EA6;\n",
              "    }\n",
              "\n",
              "    .colab-df-buttons div {\n",
              "      margin-bottom: 4px;\n",
              "    }\n",
              "\n",
              "    [theme=dark] .colab-df-convert {\n",
              "      background-color: #3B4455;\n",
              "      fill: #D2E3FC;\n",
              "    }\n",
              "\n",
              "    [theme=dark] .colab-df-convert:hover {\n",
              "      background-color: #434B5C;\n",
              "      box-shadow: 0px 1px 3px 1px rgba(0, 0, 0, 0.15);\n",
              "      filter: drop-shadow(0px 1px 2px rgba(0, 0, 0, 0.3));\n",
              "      fill: #FFFFFF;\n",
              "    }\n",
              "  </style>\n",
              "\n",
              "    <script>\n",
              "      const buttonEl =\n",
              "        document.querySelector('#df-3138a43e-549d-4ff9-92a3-04c80d14b93b button.colab-df-convert');\n",
              "      buttonEl.style.display =\n",
              "        google.colab.kernel.accessAllowed ? 'block' : 'none';\n",
              "\n",
              "      async function convertToInteractive(key) {\n",
              "        const element = document.querySelector('#df-3138a43e-549d-4ff9-92a3-04c80d14b93b');\n",
              "        const dataTable =\n",
              "          await google.colab.kernel.invokeFunction('convertToInteractive',\n",
              "                                                    [key], {});\n",
              "        if (!dataTable) return;\n",
              "\n",
              "        const docLinkHtml = 'Like what you see? Visit the ' +\n",
              "          '<a target=\"_blank\" href=https://colab.research.google.com/notebooks/data_table.ipynb>data table notebook</a>'\n",
              "          + ' to learn more about interactive tables.';\n",
              "        element.innerHTML = '';\n",
              "        dataTable['output_type'] = 'display_data';\n",
              "        await google.colab.output.renderOutput(dataTable, element);\n",
              "        const docLink = document.createElement('div');\n",
              "        docLink.innerHTML = docLinkHtml;\n",
              "        element.appendChild(docLink);\n",
              "      }\n",
              "    </script>\n",
              "  </div>\n",
              "\n",
              "\n",
              "<div id=\"df-8b6aa357-771d-47f4-b658-88352c0a01c6\">\n",
              "  <button class=\"colab-df-quickchart\" onclick=\"quickchart('df-8b6aa357-771d-47f4-b658-88352c0a01c6')\"\n",
              "            title=\"Suggest charts\"\n",
              "            style=\"display:none;\">\n",
              "\n",
              "<svg xmlns=\"http://www.w3.org/2000/svg\" height=\"24px\"viewBox=\"0 0 24 24\"\n",
              "     width=\"24px\">\n",
              "    <g>\n",
              "        <path d=\"M19 3H5c-1.1 0-2 .9-2 2v14c0 1.1.9 2 2 2h14c1.1 0 2-.9 2-2V5c0-1.1-.9-2-2-2zM9 17H7v-7h2v7zm4 0h-2V7h2v10zm4 0h-2v-4h2v4z\"/>\n",
              "    </g>\n",
              "</svg>\n",
              "  </button>\n",
              "\n",
              "<style>\n",
              "  .colab-df-quickchart {\n",
              "      --bg-color: #E8F0FE;\n",
              "      --fill-color: #1967D2;\n",
              "      --hover-bg-color: #E2EBFA;\n",
              "      --hover-fill-color: #174EA6;\n",
              "      --disabled-fill-color: #AAA;\n",
              "      --disabled-bg-color: #DDD;\n",
              "  }\n",
              "\n",
              "  [theme=dark] .colab-df-quickchart {\n",
              "      --bg-color: #3B4455;\n",
              "      --fill-color: #D2E3FC;\n",
              "      --hover-bg-color: #434B5C;\n",
              "      --hover-fill-color: #FFFFFF;\n",
              "      --disabled-bg-color: #3B4455;\n",
              "      --disabled-fill-color: #666;\n",
              "  }\n",
              "\n",
              "  .colab-df-quickchart {\n",
              "    background-color: var(--bg-color);\n",
              "    border: none;\n",
              "    border-radius: 50%;\n",
              "    cursor: pointer;\n",
              "    display: none;\n",
              "    fill: var(--fill-color);\n",
              "    height: 32px;\n",
              "    padding: 0;\n",
              "    width: 32px;\n",
              "  }\n",
              "\n",
              "  .colab-df-quickchart:hover {\n",
              "    background-color: var(--hover-bg-color);\n",
              "    box-shadow: 0 1px 2px rgba(60, 64, 67, 0.3), 0 1px 3px 1px rgba(60, 64, 67, 0.15);\n",
              "    fill: var(--button-hover-fill-color);\n",
              "  }\n",
              "\n",
              "  .colab-df-quickchart-complete:disabled,\n",
              "  .colab-df-quickchart-complete:disabled:hover {\n",
              "    background-color: var(--disabled-bg-color);\n",
              "    fill: var(--disabled-fill-color);\n",
              "    box-shadow: none;\n",
              "  }\n",
              "\n",
              "  .colab-df-spinner {\n",
              "    border: 2px solid var(--fill-color);\n",
              "    border-color: transparent;\n",
              "    border-bottom-color: var(--fill-color);\n",
              "    animation:\n",
              "      spin 1s steps(1) infinite;\n",
              "  }\n",
              "\n",
              "  @keyframes spin {\n",
              "    0% {\n",
              "      border-color: transparent;\n",
              "      border-bottom-color: var(--fill-color);\n",
              "      border-left-color: var(--fill-color);\n",
              "    }\n",
              "    20% {\n",
              "      border-color: transparent;\n",
              "      border-left-color: var(--fill-color);\n",
              "      border-top-color: var(--fill-color);\n",
              "    }\n",
              "    30% {\n",
              "      border-color: transparent;\n",
              "      border-left-color: var(--fill-color);\n",
              "      border-top-color: var(--fill-color);\n",
              "      border-right-color: var(--fill-color);\n",
              "    }\n",
              "    40% {\n",
              "      border-color: transparent;\n",
              "      border-right-color: var(--fill-color);\n",
              "      border-top-color: var(--fill-color);\n",
              "    }\n",
              "    60% {\n",
              "      border-color: transparent;\n",
              "      border-right-color: var(--fill-color);\n",
              "    }\n",
              "    80% {\n",
              "      border-color: transparent;\n",
              "      border-right-color: var(--fill-color);\n",
              "      border-bottom-color: var(--fill-color);\n",
              "    }\n",
              "    90% {\n",
              "      border-color: transparent;\n",
              "      border-bottom-color: var(--fill-color);\n",
              "    }\n",
              "  }\n",
              "</style>\n",
              "\n",
              "  <script>\n",
              "    async function quickchart(key) {\n",
              "      const quickchartButtonEl =\n",
              "        document.querySelector('#' + key + ' button');\n",
              "      quickchartButtonEl.disabled = true;  // To prevent multiple clicks.\n",
              "      quickchartButtonEl.classList.add('colab-df-spinner');\n",
              "      try {\n",
              "        const charts = await google.colab.kernel.invokeFunction(\n",
              "            'suggestCharts', [key], {});\n",
              "      } catch (error) {\n",
              "        console.error('Error during call to suggestCharts:', error);\n",
              "      }\n",
              "      quickchartButtonEl.classList.remove('colab-df-spinner');\n",
              "      quickchartButtonEl.classList.add('colab-df-quickchart-complete');\n",
              "    }\n",
              "    (() => {\n",
              "      let quickchartButtonEl =\n",
              "        document.querySelector('#df-8b6aa357-771d-47f4-b658-88352c0a01c6 button');\n",
              "      quickchartButtonEl.style.display =\n",
              "        google.colab.kernel.accessAllowed ? 'block' : 'none';\n",
              "    })();\n",
              "  </script>\n",
              "</div>\n",
              "    </div>\n",
              "  </div>\n"
            ],
            "application/vnd.google.colaboratory.intrinsic+json": {
              "type": "dataframe",
              "variable_name": "df",
              "summary": "{\n  \"name\": \"df\",\n  \"rows\": 2292,\n  \"fields\": [\n    {\n      \"column\": \"ID\",\n      \"properties\": {\n        \"dtype\": \"number\",\n        \"std\": 123489508612058832,\n        \"min\": 1212673648332550149,\n        \"max\": 1625643380171542529,\n        \"num_unique_values\": 2292,\n        \"samples\": [\n          1625585987123306514,\n          1377226920279093248,\n          1402703817163034624\n        ],\n        \"semantic_type\": \"\",\n        \"description\": \"\"\n      }\n    },\n    {\n      \"column\": \"Prediction\",\n      \"properties\": {\n        \"dtype\": \"number\",\n        \"std\": 0,\n        \"min\": 0,\n        \"max\": 1,\n        \"num_unique_values\": 2,\n        \"samples\": [\n          1,\n          0\n        ],\n        \"semantic_type\": \"\",\n        \"description\": \"\"\n      }\n    }\n  ]\n}"
            }
          },
          "metadata": {},
          "execution_count": 126
        }
      ]
    },
    {
      "cell_type": "code",
      "source": [
        "df.to_csv(\"/content/drive/MyDrive/pittsburgh-annotation/test_predicted.csv\",index=False)"
      ],
      "metadata": {
        "id": "kB9_KTDE6NCD"
      },
      "execution_count": 128,
      "outputs": []
    }
  ]
}